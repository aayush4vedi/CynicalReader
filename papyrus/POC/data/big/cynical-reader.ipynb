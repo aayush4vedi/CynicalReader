{
 "cells": [
  {
   "cell_type": "code",
   "execution_count": 1,
   "metadata": {},
   "outputs": [],
   "source": [
    "import pandas as pd"
   ]
  },
  {
   "cell_type": "markdown",
   "metadata": {},
   "source": [
    "# Data Extraction "
   ]
  },
  {
   "cell_type": "code",
   "execution_count": 2,
   "metadata": {},
   "outputs": [],
   "source": [
    "data = pd.read_csv('ComputerScience_BIG__arxiv.csv')"
   ]
  },
  {
   "cell_type": "code",
   "execution_count": 3,
   "metadata": {},
   "outputs": [
    {
     "data": {
      "text/plain": [
       "(1600, 4)"
      ]
     },
     "execution_count": 3,
     "metadata": {},
     "output_type": "execute_result"
    }
   ],
   "source": [
    "data.shape"
   ]
  },
  {
   "cell_type": "code",
   "execution_count": 4,
   "metadata": {},
   "outputs": [
    {
     "data": {
      "text/html": [
       "<div>\n",
       "<style scoped>\n",
       "    .dataframe tbody tr th:only-of-type {\n",
       "        vertical-align: middle;\n",
       "    }\n",
       "\n",
       "    .dataframe tbody tr th {\n",
       "        vertical-align: top;\n",
       "    }\n",
       "\n",
       "    .dataframe thead th {\n",
       "        text-align: right;\n",
       "    }\n",
       "</style>\n",
       "<table border=\"1\" class=\"dataframe\">\n",
       "  <thead>\n",
       "    <tr style=\"text-align: right;\">\n",
       "      <th></th>\n",
       "      <th>ID</th>\n",
       "      <th>Topic</th>\n",
       "      <th>Title</th>\n",
       "      <th>Content</th>\n",
       "    </tr>\n",
       "  </thead>\n",
       "  <tbody>\n",
       "    <tr>\n",
       "      <th>0</th>\n",
       "      <td>1</td>\n",
       "      <td>ComputerScience</td>\n",
       "      <td>draft task system item architecture tsia</td>\n",
       "      <td>execution task independent task application ex...</td>\n",
       "    </tr>\n",
       "    <tr>\n",
       "      <th>1</th>\n",
       "      <td>2</td>\n",
       "      <td>ComputerScience</td>\n",
       "      <td>compiler operating system third advance applic...</td>\n",
       "      <td>compiler operating system tsias third advance ...</td>\n",
       "    </tr>\n",
       "    <tr>\n",
       "      <th>2</th>\n",
       "      <td>3</td>\n",
       "      <td>ComputerScience</td>\n",
       "      <td>using propagation solving complex arithmetic c...</td>\n",
       "      <td>solving system nonlinear inequality important ...</td>\n",
       "    </tr>\n",
       "    <tr>\n",
       "      <th>3</th>\n",
       "      <td>4</td>\n",
       "      <td>ComputerScience</td>\n",
       "      <td>fast data moving beyond big data mapreduce</td>\n",
       "      <td>big data may solution many looking latest rise...</td>\n",
       "    </tr>\n",
       "    <tr>\n",
       "      <th>4</th>\n",
       "      <td>5</td>\n",
       "      <td>ComputerScience</td>\n",
       "      <td>brittle system analysis</td>\n",
       "      <td>goal paper define analyze system exhibit britt...</td>\n",
       "    </tr>\n",
       "  </tbody>\n",
       "</table>\n",
       "</div>"
      ],
      "text/plain": [
       "   ID            Topic                                              Title  \\\n",
       "0   1  ComputerScience           draft task system item architecture tsia   \n",
       "1   2  ComputerScience  compiler operating system third advance applic...   \n",
       "2   3  ComputerScience  using propagation solving complex arithmetic c...   \n",
       "3   4  ComputerScience         fast data moving beyond big data mapreduce   \n",
       "4   5  ComputerScience                            brittle system analysis   \n",
       "\n",
       "                                             Content  \n",
       "0  execution task independent task application ex...  \n",
       "1  compiler operating system tsias third advance ...  \n",
       "2  solving system nonlinear inequality important ...  \n",
       "3  big data may solution many looking latest rise...  \n",
       "4  goal paper define analyze system exhibit britt...  "
      ]
     },
     "execution_count": 4,
     "metadata": {},
     "output_type": "execute_result"
    }
   ],
   "source": [
    "data.head(5)"
   ]
  },
  {
   "cell_type": "markdown",
   "metadata": {},
   "source": [
    "# Cleaning "
   ]
  },
  {
   "cell_type": "code",
   "execution_count": null,
   "metadata": {},
   "outputs": [],
   "source": [
    "import spacy\n",
    "spacy.load('en')\n",
    "from spacy.lang.en import English\n",
    "parser = English()\n",
    "def tokenize(text):\n",
    "    lda_tokens = []\n",
    "    tokens = parser(text)\n",
    "    for token in tokens:\n",
    "        if token.orth_.isspace():\n",
    "            continue\n",
    "        elif token.like_url:\n",
    "            lda_tokens.append('URL')\n",
    "        elif token.orth_.startswith('@'):\n",
    "            lda_tokens.append('SCREEN_NAME')\n",
    "        else:\n",
    "            lda_tokens.append(token.lower_)\n",
    "    return lda_tokens"
   ]
  },
  {
   "cell_type": "markdown",
   "metadata": {},
   "source": [
    "# Pre-processing the data for modelling "
   ]
  },
  {
   "cell_type": "code",
   "execution_count": 7,
   "metadata": {},
   "outputs": [
    {
     "name": "stderr",
     "output_type": "stream",
     "text": [
      "[nltk_data] Downloading package wordnet to\n",
      "[nltk_data]     /home/richachoudhary/nltk_data...\n",
      "[nltk_data]   Package wordnet is already up-to-date!\n"
     ]
    }
   ],
   "source": [
    "import nltk\n",
    "nltk.download('wordnet')\n",
    "from nltk.corpus import wordnet as wn\n",
    "def get_lemma(word):\n",
    "    lemma = wn.morphy(word)\n",
    "    if lemma is None:\n",
    "        return word\n",
    "    else:\n",
    "        return lemma\n",
    "    \n",
    "from nltk.stem.wordnet import WordNetLemmatizer\n",
    "def get_lemma2(word):\n",
    "    return WordNetLemmatizer().lemmatize(word)"
   ]
  },
  {
   "cell_type": "code",
   "execution_count": 8,
   "metadata": {},
   "outputs": [
    {
     "name": "stderr",
     "output_type": "stream",
     "text": [
      "[nltk_data] Downloading package stopwords to\n",
      "[nltk_data]     /home/richachoudhary/nltk_data...\n",
      "[nltk_data]   Package stopwords is already up-to-date!\n"
     ]
    }
   ],
   "source": [
    "nltk.download('stopwords')\n",
    "en_stop = set(nltk.corpus.stopwords.words('english'))"
   ]
  },
  {
   "cell_type": "code",
   "execution_count": 9,
   "metadata": {},
   "outputs": [],
   "source": [
    "def prepare_text_for_lda(text):\n",
    "    tokens = tokenize(text)\n",
    "    #tokens = [token for token in tokens if len(token) > 4]\n",
    "    tokens = [token for token in tokens if token not in en_stop]\n",
    "    tokens = [get_lemma(token) for token in tokens]\n",
    "    return tokens"
   ]
  },
  {
   "cell_type": "code",
   "execution_count": 13,
   "metadata": {},
   "outputs": [],
   "source": [
    "data['tokens']=  data['Content'].apply(lambda x: prepare_text_for_lda(x))"
   ]
  },
  {
   "cell_type": "code",
   "execution_count": 14,
   "metadata": {},
   "outputs": [
    {
     "data": {
      "text/html": [
       "<div>\n",
       "<style scoped>\n",
       "    .dataframe tbody tr th:only-of-type {\n",
       "        vertical-align: middle;\n",
       "    }\n",
       "\n",
       "    .dataframe tbody tr th {\n",
       "        vertical-align: top;\n",
       "    }\n",
       "\n",
       "    .dataframe thead th {\n",
       "        text-align: right;\n",
       "    }\n",
       "</style>\n",
       "<table border=\"1\" class=\"dataframe\">\n",
       "  <thead>\n",
       "    <tr style=\"text-align: right;\">\n",
       "      <th></th>\n",
       "      <th>ID</th>\n",
       "      <th>Topic</th>\n",
       "      <th>Title</th>\n",
       "      <th>Content</th>\n",
       "      <th>tokens</th>\n",
       "    </tr>\n",
       "  </thead>\n",
       "  <tbody>\n",
       "    <tr>\n",
       "      <th>0</th>\n",
       "      <td>1</td>\n",
       "      <td>ComputerScience</td>\n",
       "      <td>draft task system item architecture tsia</td>\n",
       "      <td>execution task independent task application ex...</td>\n",
       "      <td>[execution, task, independent, task, applicati...</td>\n",
       "    </tr>\n",
       "    <tr>\n",
       "      <th>1</th>\n",
       "      <td>2</td>\n",
       "      <td>ComputerScience</td>\n",
       "      <td>compiler operating system third advance applic...</td>\n",
       "      <td>compiler operating system tsias third advance ...</td>\n",
       "      <td>[compiler, operate, system, tsias, third, adva...</td>\n",
       "    </tr>\n",
       "    <tr>\n",
       "      <th>2</th>\n",
       "      <td>3</td>\n",
       "      <td>ComputerScience</td>\n",
       "      <td>using propagation solving complex arithmetic c...</td>\n",
       "      <td>solving system nonlinear inequality important ...</td>\n",
       "      <td>[solving, system, nonlinear, inequality, impor...</td>\n",
       "    </tr>\n",
       "    <tr>\n",
       "      <th>3</th>\n",
       "      <td>4</td>\n",
       "      <td>ComputerScience</td>\n",
       "      <td>fast data moving beyond big data mapreduce</td>\n",
       "      <td>big data may solution many looking latest rise...</td>\n",
       "      <td>[big, data, may, solution, many, looking, late...</td>\n",
       "    </tr>\n",
       "    <tr>\n",
       "      <th>4</th>\n",
       "      <td>5</td>\n",
       "      <td>ComputerScience</td>\n",
       "      <td>brittle system analysis</td>\n",
       "      <td>goal paper define analyze system exhibit britt...</td>\n",
       "      <td>[goal, paper, define, analyze, system, exhibit...</td>\n",
       "    </tr>\n",
       "  </tbody>\n",
       "</table>\n",
       "</div>"
      ],
      "text/plain": [
       "   ID            Topic                                              Title  \\\n",
       "0   1  ComputerScience           draft task system item architecture tsia   \n",
       "1   2  ComputerScience  compiler operating system third advance applic...   \n",
       "2   3  ComputerScience  using propagation solving complex arithmetic c...   \n",
       "3   4  ComputerScience         fast data moving beyond big data mapreduce   \n",
       "4   5  ComputerScience                            brittle system analysis   \n",
       "\n",
       "                                             Content  \\\n",
       "0  execution task independent task application ex...   \n",
       "1  compiler operating system tsias third advance ...   \n",
       "2  solving system nonlinear inequality important ...   \n",
       "3  big data may solution many looking latest rise...   \n",
       "4  goal paper define analyze system exhibit britt...   \n",
       "\n",
       "                                              tokens  \n",
       "0  [execution, task, independent, task, applicati...  \n",
       "1  [compiler, operate, system, tsias, third, adva...  \n",
       "2  [solving, system, nonlinear, inequality, impor...  \n",
       "3  [big, data, may, solution, many, looking, late...  \n",
       "4  [goal, paper, define, analyze, system, exhibit...  "
      ]
     },
     "execution_count": 14,
     "metadata": {},
     "output_type": "execute_result"
    }
   ],
   "source": [
    "data.head(5)"
   ]
  },
  {
   "cell_type": "markdown",
   "metadata": {},
   "source": [
    "# Bag-Of-words "
   ]
  },
  {
   "cell_type": "code",
   "execution_count": 35,
   "metadata": {},
   "outputs": [],
   "source": [
    "from gensim import corpora\n",
    "dictionary = corpora.Dictionary(data['tokens'])\n",
    "bow_corpus = data['tokens'].apply(lambda x: dictionary.doc2bow(x))\n",
    "import pickle\n",
    "pickle.dump(bow_corpus, open('corpus.pkl', 'wb'))\n",
    "dictionary.save('dictionary.gensim')"
   ]
  },
  {
   "cell_type": "code",
   "execution_count": 44,
   "metadata": {},
   "outputs": [
    {
     "data": {
      "text/plain": [
       "0       [(0, 1), (1, 1), (2, 7), (3, 2), (4, 1), (5, 1...\n",
       "1       [(0, 1), (1, 1), (2, 9), (3, 1), (9, 3), (10, ...\n",
       "2       [(1, 1), (37, 1), (38, 1), (74, 1), (83, 1), (...\n",
       "3       [(25, 2), (30, 1), (38, 1), (64, 1), (74, 2), ...\n",
       "4       [(8, 1), (38, 3), (67, 1), (71, 1), (116, 1), ...\n",
       "                              ...                        \n",
       "1595    [(2, 1), (16, 1), (19, 1), (37, 1), (38, 4), (...\n",
       "1596    [(110, 1), (116, 1), (129, 3), (169, 1), (173,...\n",
       "1597    [(48, 1), (90, 2), (104, 1), (116, 1), (140, 1...\n",
       "1598    [(68, 1), (75, 1), (78, 1), (79, 1), (90, 1), ...\n",
       "1599    [(2, 3), (3, 2), (25, 1), (38, 4), (41, 1), (4...\n",
       "Name: tokens, Length: 1600, dtype: object"
      ]
     },
     "execution_count": 44,
     "metadata": {},
     "output_type": "execute_result"
    }
   ],
   "source": [
    "bow_corpus"
   ]
  },
  {
   "cell_type": "code",
   "execution_count": 164,
   "metadata": {},
   "outputs": [
    {
     "data": {
      "text/plain": [
       "(1600,)"
      ]
     },
     "execution_count": 164,
     "metadata": {},
     "output_type": "execute_result"
    }
   ],
   "source": [
    "bow_corpus.shape"
   ]
  },
  {
   "cell_type": "code",
   "execution_count": 39,
   "metadata": {},
   "outputs": [
    {
     "name": "stdout",
     "output_type": "stream",
     "text": [
      "(0, '0.007*\"model\" + 0.007*\"performance\" + 0.006*\"propose\" + 0.006*\"show\" + 0.006*\"use\" + 0.005*\"number\" + 0.005*\"network\" + 0.005*\"hardware\"')\n",
      "(1, '0.011*\"algorithm\" + 0.009*\"problem\" + 0.005*\"result\" + 0.005*\"computing\" + 0.005*\"show\" + 0.005*\"complexity\" + 0.005*\"n\" + 0.005*\"graph\"')\n",
      "(2, '0.017*\"system\" + 0.017*\"memory\" + 0.014*\"performance\" + 0.010*\"data\" + 0.007*\"application\" + 0.006*\"paper\" + 0.006*\"use\" + 0.005*\"architecture\"')\n",
      "(3, '0.009*\"algorithm\" + 0.008*\"problem\" + 0.007*\"graph\" + 0.006*\"model\" + 0.006*\"show\" + 0.006*\"query\" + 0.006*\"number\" + 0.005*\"result\"')\n",
      "(4, '0.011*\"system\" + 0.008*\"user\" + 0.007*\"data\" + 0.005*\"paper\" + 0.005*\"propose\" + 0.005*\"application\" + 0.005*\"task\" + 0.004*\"using\"')\n",
      "(5, '0.010*\"model\" + 0.008*\"system\" + 0.006*\"research\" + 0.005*\"problem\" + 0.005*\"paper\" + 0.005*\"use\" + 0.005*\"present\" + 0.005*\"network\"')\n",
      "(6, '0.016*\"algorithm\" + 0.010*\"system\" + 0.009*\"time\" + 0.008*\"task\" + 0.008*\"data\" + 0.008*\"scheduling\" + 0.008*\"problem\" + 0.008*\"approach\"')\n",
      "(7, '0.021*\"system\" + 0.007*\"design\" + 0.007*\"time\" + 0.007*\"network\" + 0.006*\"application\" + 0.006*\"paper\" + 0.005*\"software\" + 0.005*\"show\"')\n"
     ]
    }
   ],
   "source": [
    "import gensim\n",
    "NUM_TOPICS = 8\n",
    "ldamodel = gensim.models.ldamodel.LdaModel(bow_corpus, num_topics = NUM_TOPICS, id2word=dictionary, passes=15)\n",
    "ldamodel.save('model5.gensim')\n",
    "topics = ldamodel.print_topics(num_words=8)\n",
    "for topic in topics:\n",
    "    print(topic)"
   ]
  },
  {
   "cell_type": "markdown",
   "metadata": {},
   "source": [
    "Predicting on test data using Bag-of-words "
   ]
  },
  {
   "cell_type": "code",
   "execution_count": 40,
   "metadata": {},
   "outputs": [
    {
     "name": "stdout",
     "output_type": "stream",
     "text": [
      "[(90, 1), (435, 1), (436, 1), (808, 1), (897, 1), (7165, 1)]\n",
      "[(0, 0.017901136), (1, 0.017891614), (2, 0.017903758), (3, 0.017896537), (4, 0.01789893), (5, 0.0178844), (6, 0.017914208), (7, 0.8747094)]\n"
     ]
    }
   ],
   "source": [
    "new_doc = 'Practical Bayesian Optimization of Machine Learning Algorithms'\n",
    "new_doc = prepare_text_for_lda(new_doc)\n",
    "new_doc_bow = dictionary.doc2bow(new_doc)\n",
    "print(new_doc_bow)\n",
    "print(ldamodel.get_document_topics(new_doc_bow))"
   ]
  },
  {
   "cell_type": "code",
   "execution_count": 41,
   "metadata": {},
   "outputs": [
    {
     "name": "stdout",
     "output_type": "stream",
     "text": [
      "[(74, 1), (83, 1), (95, 1), (796, 1), (1871, 1), (2039, 1), (2203, 1), (2208, 1), (2216, 1)]\n",
      "[(0, 0.012520391), (1, 0.012527472), (2, 0.6654342), (3, 0.01253471), (4, 0.012535758), (5, 0.012523551), (6, 0.25939345), (7, 0.01253049)]\n"
     ]
    }
   ],
   "source": [
    "new_doc = 'solving black box problem normative framework explainable artificial intelligence'\n",
    "new_doc = prepare_text_for_lda(new_doc)\n",
    "new_doc_bow = dictionary.doc2bow(new_doc)\n",
    "print(new_doc_bow)\n",
    "print(ldamodel.get_document_topics(new_doc_bow))"
   ]
  },
  {
   "cell_type": "markdown",
   "metadata": {},
   "source": [
    "# TFIDF"
   ]
  },
  {
   "cell_type": "code",
   "execution_count": 162,
   "metadata": {},
   "outputs": [],
   "source": [
    "from sklearn.feature_extraction.text import TfidfVectorizer\n",
    "#no_features = 5000\n",
    "vectorizer = TfidfVectorizer()\n",
    "tfidf= vectorizer.fit_transform(data['tokens'].astype(str))\n",
    "tfidf_feature_names= vectorizer.get_feature_names()"
   ]
  },
  {
   "cell_type": "code",
   "execution_count": 178,
   "metadata": {},
   "outputs": [
    {
     "data": {
      "text/plain": [
       "0    ['execution', 'task', 'independent', 'task', '...\n",
       "1    ['compiler', 'operate', 'system', 'tsias', 'th...\n",
       "2    ['solving', 'system', 'nonlinear', 'inequality...\n",
       "Name: tokens, dtype: object"
      ]
     },
     "execution_count": 178,
     "metadata": {},
     "output_type": "execute_result"
    }
   ],
   "source": [
    "data['tokens'].astype(str).head(3)"
   ]
  },
  {
   "cell_type": "code",
   "execution_count": 179,
   "metadata": {},
   "outputs": [
    {
     "data": {
      "text/html": [
       "<div>\n",
       "<style scoped>\n",
       "    .dataframe tbody tr th:only-of-type {\n",
       "        vertical-align: middle;\n",
       "    }\n",
       "\n",
       "    .dataframe tbody tr th {\n",
       "        vertical-align: top;\n",
       "    }\n",
       "\n",
       "    .dataframe thead th {\n",
       "        text-align: right;\n",
       "    }\n",
       "</style>\n",
       "<table border=\"1\" class=\"dataframe\">\n",
       "  <thead>\n",
       "    <tr style=\"text-align: right;\">\n",
       "      <th></th>\n",
       "      <th>ID</th>\n",
       "      <th>Topic</th>\n",
       "      <th>Title</th>\n",
       "      <th>Content</th>\n",
       "      <th>tokens</th>\n",
       "    </tr>\n",
       "  </thead>\n",
       "  <tbody>\n",
       "    <tr>\n",
       "      <th>0</th>\n",
       "      <td>1</td>\n",
       "      <td>ComputerScience</td>\n",
       "      <td>draft task system item architecture tsia</td>\n",
       "      <td>execution task independent task application ex...</td>\n",
       "      <td>[execution, task, independent, task, applicati...</td>\n",
       "    </tr>\n",
       "    <tr>\n",
       "      <th>1</th>\n",
       "      <td>2</td>\n",
       "      <td>ComputerScience</td>\n",
       "      <td>compiler operating system third advance applic...</td>\n",
       "      <td>compiler operating system tsias third advance ...</td>\n",
       "      <td>[compiler, operate, system, tsias, third, adva...</td>\n",
       "    </tr>\n",
       "    <tr>\n",
       "      <th>2</th>\n",
       "      <td>3</td>\n",
       "      <td>ComputerScience</td>\n",
       "      <td>using propagation solving complex arithmetic c...</td>\n",
       "      <td>solving system nonlinear inequality important ...</td>\n",
       "      <td>[solving, system, nonlinear, inequality, impor...</td>\n",
       "    </tr>\n",
       "  </tbody>\n",
       "</table>\n",
       "</div>"
      ],
      "text/plain": [
       "   ID            Topic                                              Title  \\\n",
       "0   1  ComputerScience           draft task system item architecture tsia   \n",
       "1   2  ComputerScience  compiler operating system third advance applic...   \n",
       "2   3  ComputerScience  using propagation solving complex arithmetic c...   \n",
       "\n",
       "                                             Content  \\\n",
       "0  execution task independent task application ex...   \n",
       "1  compiler operating system tsias third advance ...   \n",
       "2  solving system nonlinear inequality important ...   \n",
       "\n",
       "                                              tokens  \n",
       "0  [execution, task, independent, task, applicati...  \n",
       "1  [compiler, operate, system, tsias, third, adva...  \n",
       "2  [solving, system, nonlinear, inequality, impor...  "
      ]
     },
     "execution_count": 179,
     "metadata": {},
     "output_type": "execute_result"
    }
   ],
   "source": [
    "data.head(3)"
   ]
  },
  {
   "cell_type": "code",
   "execution_count": 163,
   "metadata": {},
   "outputs": [
    {
     "data": {
      "text/plain": [
       "<1600x12513 sparse matrix of type '<class 'numpy.float64'>'\n",
       "\twith 108744 stored elements in Compressed Sparse Row format>"
      ]
     },
     "execution_count": 163,
     "metadata": {},
     "output_type": "execute_result"
    }
   ],
   "source": [
    "tfidf"
   ]
  },
  {
   "cell_type": "code",
   "execution_count": 154,
   "metadata": {},
   "outputs": [],
   "source": [
    "from sklearn.decomposition import NMF, LatentDirichletAllocation\n",
    "tfidf_ldamodel = LatentDirichletAllocation(n_components= NUM_TOPICS, max_iter=5, learning_method='online', learning_offset=50.,random_state=0).fit(tfidf)\n",
    "\n"
   ]
  },
  {
   "cell_type": "code",
   "execution_count": 155,
   "metadata": {},
   "outputs": [
    {
     "name": "stdout",
     "output_type": "stream",
     "text": [
      "0\n",
      "['oprema', 'czj', 'kortum', 'relay', 'kaemmerer', 'system', 'gdr', 'selenium', 'heinz', 'wilhelm']\n",
      "1\n",
      "['system', 'algorithm', 'performance', 'data', 'model', 'memory', 'problem', 'application', 'paper', 'use']\n",
      "2\n",
      "['data', 'memory', 'computation', 'performance', 'compiler', 'concern', 'algorithm', 'point', 'present', 'ontology']\n",
      "3\n",
      "['latch', 'invariant', 'web', 'infographics', 'gr', 'eusprig', 'aim', 'manage', 'circuit', 'efft']\n",
      "4\n",
      "['futamura', 'staging', 'projection', 'humancomputer', 'data', 'dialog', 'tag', 'need', 'task', 'development']\n",
      "5\n",
      "['memory', 'write', 'cache', 'performance', 'proof', 'time', 'abstraction', 'propose', 'attack', 'storage']\n",
      "6\n",
      "['edsger', 'wybe', 'dijkstra', 'mathsf', 'proponent', 'ptolemaic', 'philosopher', 'copernican', 'openminded', 'neutral']\n",
      "7\n",
      "['gesture', 'latch', 'business', 'gppc', 'issue', 'computing', 'reality', 'knn', 'circuit', 'tsias']\n"
     ]
    }
   ],
   "source": [
    "def display_topics(model, feature_names, no_top_words):\n",
    "    for topic_idx, topic in enumerate(model.components_):\n",
    "        print (topic_idx)\n",
    "        print ([\" \".join([feature_names[i]])\n",
    "                        for i in topic.argsort()[:-no_top_words - 1:-1]])\n",
    "\n",
    "no_top_words = 10\n",
    "display_topics(tfidf_ldamodel, tfidf_feature_names, no_top_words)"
   ]
  },
  {
   "cell_type": "code",
   "execution_count": 165,
   "metadata": {},
   "outputs": [],
   "source": [
    "#test_tfidf= vectorizer.fit_transform(['Practical Bayesian Optimization of Machine Learning Algorithms', 'saas', 'maths'])\n",
    "#tfidf_ldamodel.transform(test_tfidf)"
   ]
  },
  {
   "cell_type": "markdown",
   "metadata": {},
   "source": [
    "Predicting on test data using TFIDF"
   ]
  },
  {
   "cell_type": "code",
   "execution_count": 166,
   "metadata": {},
   "outputs": [],
   "source": [
    "#y = tfidf_ldamodel.transform(x)"
   ]
  },
  {
   "cell_type": "code",
   "execution_count": 140,
   "metadata": {},
   "outputs": [
    {
     "data": {
      "text/plain": [
       "array([[0.06259207, 0.06258221, 0.06261731, 0.06256668, 0.56191697,\n",
       "        0.06256809, 0.06258385, 0.06257283],\n",
       "       [0.06259836, 0.06259344, 0.06260903, 0.06256334, 0.06259348,\n",
       "        0.56180959, 0.06262626, 0.06260649],\n",
       "       [0.06258893, 0.56178158, 0.06265892, 0.06257623, 0.06258473,\n",
       "        0.06258699, 0.06260892, 0.0626137 ],\n",
       "       [0.06257026, 0.06259051, 0.06256751, 0.56186049, 0.06259097,\n",
       "        0.06258922, 0.0625984 , 0.06263263],\n",
       "       [0.06261577, 0.06259084, 0.06263428, 0.5618239 , 0.06256778,\n",
       "        0.06258343, 0.0626068 , 0.06257719],\n",
       "       [0.56188934, 0.06262404, 0.06255488, 0.06257612, 0.06258879,\n",
       "        0.06259943, 0.06257093, 0.06259648]])"
      ]
     },
     "execution_count": 140,
     "metadata": {},
     "output_type": "execute_result"
    }
   ],
   "source": [
    "y"
   ]
  },
  {
   "cell_type": "code",
   "execution_count": 167,
   "metadata": {},
   "outputs": [],
   "source": [
    "#doc_topic_dist_unnormalized = np.matrix(y)"
   ]
  },
  {
   "cell_type": "code",
   "execution_count": 168,
   "metadata": {},
   "outputs": [],
   "source": [
    "#https://stackoverflow.com/questions/40597075/python-sklearn-latent-dirichlet-allocation-transform-v-fittransform?noredirect=1&lq=1\n",
    "# normalize the distribution (only needed if you want to work with the probabilities)\n",
    "#doc_topic_dist = doc_topic_dist_unnormalized/doc_topic_dist_unnormalized.sum(axis=1)"
   ]
  },
  {
   "cell_type": "code",
   "execution_count": 169,
   "metadata": {},
   "outputs": [],
   "source": [
    "#To find the top ranking topic you can do something like:\n",
    "#doc_topic_dist.argmax(axis=1)"
   ]
  },
  {
   "cell_type": "code",
   "execution_count": 170,
   "metadata": {},
   "outputs": [],
   "source": [
    "##x = vectorizer.transform(prepare_text_for_lda('abstraction'))\n",
    "\n",
    "##y = tfidf_ldamodel.transform(x)\n",
    "\n",
    "##doc_topic_dist_unnormalized = np.matrix(y)\n",
    "#https://stackoverflow.com/questions/40597075/python-sklearn-latent-dirichlet-allocation-transform-v-fittransform?noredirect=1&lq=1\n",
    "# normalize the distribution (only needed if you want to work with the probabilities)\n",
    "##doc_topic_dist = doc_topic_dist_unnormalized/doc_topic_dist_unnormalized.sum(axis=1)\n",
    "##doc_topic_dist.argmax(axis=1)"
   ]
  },
  {
   "cell_type": "code",
   "execution_count": 171,
   "metadata": {},
   "outputs": [
    {
     "data": {
      "text/plain": [
       "NMF(alpha=0.0, beta_loss='frobenius', init=None, l1_ratio=0.0, max_iter=200,\n",
       "    n_components=8, random_state=42, shuffle=False, solver='cd', tol=0.0001,\n",
       "    verbose=0)"
      ]
     },
     "execution_count": 171,
     "metadata": {},
     "output_type": "execute_result"
    }
   ],
   "source": [
    "from sklearn.decomposition import NMF\n",
    "\n",
    "nmf = NMF(n_components= NUM_TOPICS, random_state=42)\n",
    "nmf.fit(tfidf )"
   ]
  },
  {
   "cell_type": "code",
   "execution_count": 173,
   "metadata": {},
   "outputs": [
    {
     "name": "stdout",
     "output_type": "stream",
     "text": [
      "0\n",
      "['system', 'file', 'operate', 'kernel', 'device', 'application', 'hardware', 'virtualization', 'service', 'io']\n",
      "1\n",
      "['task', 'scheduling', 'realtime', 'schedulability', 'multiprocessor', 'scheduler', 'processor', 'deadline', 'propose', 'resource']\n",
      "2\n",
      "['memory', 'performance', 'data', 'cache', 'access', 'page', 'application', 'nvm', 'dram', 'energy']\n",
      "3\n",
      "['algorithm', 'problem', 'polynomial', 'method', 'complexity', 'matrix', 'graph', 'number', 'implementation', 'result']\n",
      "4\n",
      "['data', 'language', 'research', 'software', 'user', 'programming', 'model', 'analysis', 'science', 'information']\n",
      "5\n",
      "['time', 'round', 'robin', 'algorithm', 'scheduling', 'rr', 'quantum', 'cpu', 'average', 'waiting']\n",
      "6\n",
      "['game', 'player', 'agent', 'strategy', 'problem', 'equilibrium', 'graph', 'nash', 'automaton', 'winning']\n",
      "7\n",
      "['network', 'neural', 'music', 'model', 'deep', 'feature', 'learning', 'energy', 'architecture', 'node']\n"
     ]
    }
   ],
   "source": [
    "display_topics(nmf, tfidf_feature_names, no_top_words)"
   ]
  },
  {
   "cell_type": "code",
   "execution_count": 180,
   "metadata": {},
   "outputs": [
    {
     "data": {
      "text/plain": [
       "['music', 'deep', 'energy', 'network']"
      ]
     },
     "execution_count": 180,
     "metadata": {},
     "output_type": "execute_result"
    }
   ],
   "source": [
    "prepare_text_for_lda('music deep energy network')"
   ]
  },
  {
   "cell_type": "code",
   "execution_count": 177,
   "metadata": {},
   "outputs": [],
   "source": [
    "x = vectorizer.transform(prepare_text_for_lda('music deep energy network'))\n",
    "y = nmf.transform(x)\n"
   ]
  },
  {
   "cell_type": "code",
   "execution_count": 175,
   "metadata": {},
   "outputs": [
    {
     "data": {
      "text/plain": [
       "array([[0.        , 0.        , 0.        , 0.        , 0.        ,\n",
       "        0.        , 0.        , 0.08277931],\n",
       "       [0.        , 0.        , 0.        , 0.        , 0.        ,\n",
       "        0.        , 0.        , 0.07343387],\n",
       "       [0.        , 0.01997873, 0.03261225, 0.        , 0.        ,\n",
       "        0.        , 0.        , 0.05632942],\n",
       "       [0.        , 0.        , 0.        , 0.        , 0.        ,\n",
       "        0.        , 0.        , 0.32630181]])"
      ]
     },
     "execution_count": 175,
     "metadata": {},
     "output_type": "execute_result"
    }
   ],
   "source": [
    "y"
   ]
  },
  {
   "cell_type": "code",
   "execution_count": 192,
   "metadata": {},
   "outputs": [
    {
     "data": {
      "text/html": [
       "<div>\n",
       "<style scoped>\n",
       "    .dataframe tbody tr th:only-of-type {\n",
       "        vertical-align: middle;\n",
       "    }\n",
       "\n",
       "    .dataframe tbody tr th {\n",
       "        vertical-align: top;\n",
       "    }\n",
       "\n",
       "    .dataframe thead th {\n",
       "        text-align: right;\n",
       "    }\n",
       "</style>\n",
       "<table border=\"1\" class=\"dataframe\">\n",
       "  <thead>\n",
       "    <tr style=\"text-align: right;\">\n",
       "      <th></th>\n",
       "      <th>Title</th>\n",
       "      <th>Topic</th>\n",
       "      <th>Content</th>\n",
       "    </tr>\n",
       "  </thead>\n",
       "  <tbody>\n",
       "    <tr>\n",
       "      <th>0</th>\n",
       "      <td>draft task system item architecture tsia</td>\n",
       "      <td>1</td>\n",
       "      <td>execution task independent task application executes term task application definition free detail execution many project demonstrated task system t provide application parallel distributed heterogeneous adaptive dynamic realtime interactive reliable secure execution task consists item thus application defined term item item architecture ia support array routine structure item thus allowing structured application definition taking property many project support extend currying application defined type conditional item stream definition element task system item architecture tsia thus promise unprecedented level support application execution definition</td>\n",
       "    </tr>\n",
       "    <tr>\n",
       "      <th>1</th>\n",
       "      <td>compiler operating system third advance application support</td>\n",
       "      <td>0</td>\n",
       "      <td>compiler operating system tsias third advance application support compiler support high level application definition programming language operating system support high level interface resource used application execution task system item architecture tsia provides application transparent reliable distributed heterogeneous adaptive dynamic realtime interactive parallel secure execution addition supporting application execution tsia also support application definition runtime support definition complementary compiletime support compiler example allows language similar fortran c deliver feature promised functional computing many tsias exist previously recognized served particular type application existing tsias project demonstrate tsias feasible application next paradigm application support tsia simplifies unifies existing computing practice research solving many outstanding problem tsia open many many new opportunity computing</td>\n",
       "    </tr>\n",
       "    <tr>\n",
       "      <th>2</th>\n",
       "      <td>using propagation solving complex arithmetic constraint</td>\n",
       "      <td>3</td>\n",
       "      <td>solving system nonlinear inequality important problem conventional numerical analysis satisfactory method boxconsistency algorithm one compute cover solution set arbitrarily close approximation difficulty use propagation complex arithmetic expression box consistency computed interval arithmetic paper present theorem support simple modification propagation allows complex arithmetic expression handled efficiently version box consistency obtained way stronger interval arithmetic used</td>\n",
       "    </tr>\n",
       "    <tr>\n",
       "      <th>3</th>\n",
       "      <td>fast data moving beyond big data mapreduce</td>\n",
       "      <td>4</td>\n",
       "      <td>big data may solution many looking latest rise big data method system partly due new ability technique provide partly simplicity software design partly buzzword value investor client said popularity measure suitability big data approach might best solution even applicable one many common problem namely time dependent problem whose solution may bound cached manner benefit greatly moving partly stateless flow oriented function data model paper present model substitute traditional mapshufflereduce model</td>\n",
       "    </tr>\n",
       "    <tr>\n",
       "      <th>4</th>\n",
       "      <td>brittle system analysis</td>\n",
       "      <td>0</td>\n",
       "      <td>goal paper define analyze system exhibit brittle behavior behavior characterized sudden steep decline performance system approach limit tolerance due input parameter exceed specified input environmental condition exceed specified operating boundary analogy made brittle commmunication system particular material science</td>\n",
       "    </tr>\n",
       "  </tbody>\n",
       "</table>\n",
       "</div>"
      ],
      "text/plain": [
       "                                                         Title  Topic  \\\n",
       "0  draft task system item architecture tsia                     1       \n",
       "1  compiler operating system third advance application support  0       \n",
       "2  using propagation solving complex arithmetic constraint      3       \n",
       "3  fast data moving beyond big data mapreduce                   4       \n",
       "4  brittle system analysis                                      0       \n",
       "\n",
       "                                                                                                                                                                                                                                                                                                                                                                                                                                                                                                                                                                                                                                                                                                                                                                                                                                                                                                                                                                     Content  \n",
       "0  execution task independent task application executes term task application definition free detail execution many project demonstrated task system t provide application parallel distributed heterogeneous adaptive dynamic realtime interactive reliable secure execution task consists item thus application defined term item item architecture ia support array routine structure item thus allowing structured application definition taking property many project support extend currying application defined type conditional item stream definition element task system item architecture tsia thus promise unprecedented level support application execution definition                                                                                                                                                                                                                                                                                           \n",
       "1  compiler operating system tsias third advance application support compiler support high level application definition programming language operating system support high level interface resource used application execution task system item architecture tsia provides application transparent reliable distributed heterogeneous adaptive dynamic realtime interactive parallel secure execution addition supporting application execution tsia also support application definition runtime support definition complementary compiletime support compiler example allows language similar fortran c deliver feature promised functional computing many tsias exist previously recognized served particular type application existing tsias project demonstrate tsias feasible application next paradigm application support tsia simplifies unifies existing computing practice research solving many outstanding problem tsia open many many new opportunity computing  \n",
       "2  solving system nonlinear inequality important problem conventional numerical analysis satisfactory method boxconsistency algorithm one compute cover solution set arbitrarily close approximation difficulty use propagation complex arithmetic expression box consistency computed interval arithmetic paper present theorem support simple modification propagation allows complex arithmetic expression handled efficiently version box consistency obtained way stronger interval arithmetic used                                                                                                                                                                                                                                                                                                                                                                                                                                                                      \n",
       "3  big data may solution many looking latest rise big data method system partly due new ability technique provide partly simplicity software design partly buzzword value investor client said popularity measure suitability big data approach might best solution even applicable one many common problem namely time dependent problem whose solution may bound cached manner benefit greatly moving partly stateless flow oriented function data model paper present model substitute traditional mapshufflereduce model                                                                                                                                                                                                                                                                                                                                                                                                                                                  \n",
       "4  goal paper define analyze system exhibit brittle behavior behavior characterized sudden steep decline performance system approach limit tolerance due input parameter exceed specified input environmental condition exceed specified operating boundary analogy made brittle commmunication system particular material science                                                                                                                                                                                                                                                                                                                                                                                                                                                                                                                                                                                                                                            "
      ]
     },
     "execution_count": 192,
     "metadata": {},
     "output_type": "execute_result"
    }
   ],
   "source": [
    "topic_values = nmf.transform(tfidf)\n",
    "data['Topic'] = topic_values.argmax(axis=1)\n",
    "data[['Title', 'Topic', 'Content']].head()"
   ]
  },
  {
   "cell_type": "code",
   "execution_count": 191,
   "metadata": {},
   "outputs": [],
   "source": [
    "pd.set_option('display.max_colwidth', -1)"
   ]
  },
  {
   "cell_type": "code",
   "execution_count": 193,
   "metadata": {},
   "outputs": [
    {
     "data": {
      "text/plain": [
       "4    470\n",
       "3    378\n",
       "0    193\n",
       "7    187\n",
       "2    169\n",
       "1    90 \n",
       "6    89 \n",
       "5    24 \n",
       "Name: Topic, dtype: int64"
      ]
     },
     "execution_count": 193,
     "metadata": {},
     "output_type": "execute_result"
    }
   ],
   "source": [
    "data['Topic'].value_counts()"
   ]
  },
  {
   "cell_type": "code",
   "execution_count": null,
   "metadata": {},
   "outputs": [],
   "source": []
  }
 ],
 "metadata": {
  "kernelspec": {
   "display_name": "Python 3",
   "language": "python",
   "name": "python3"
  },
  "language_info": {
   "codemirror_mode": {
    "name": "ipython",
    "version": 3
   },
   "file_extension": ".py",
   "mimetype": "text/x-python",
   "name": "python",
   "nbconvert_exporter": "python",
   "pygments_lexer": "ipython3",
   "version": "3.6.9"
  }
 },
 "nbformat": 4,
 "nbformat_minor": 4
}
