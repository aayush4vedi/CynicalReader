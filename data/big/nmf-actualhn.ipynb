{
 "cells": [
  {
   "cell_type": "code",
   "execution_count": 103,
   "metadata": {},
   "outputs": [
    {
     "name": "stdout",
     "output_type": "stream",
     "text": [
      "The autotime extension is already loaded. To reload it, use:\n",
      "  %reload_ext autotime\n",
      "time: 35.4 ms\n"
     ]
    }
   ],
   "source": [
    "import pandas as pd\n",
    "import numpy as np\n",
    "import matplotlib.pyplot as plt\n",
    "import seaborn as sns\n",
    "sns.set_style('darkgrid')\n",
    "from collections import Counter\n",
    "from gensim.models.coherencemodel import CoherenceModel\n",
    "from gensim.corpora.dictionary import Dictionary\n",
    "from sklearn.decomposition import NMF\n",
    "from gensim.models.nmf import Nmf\n",
    "from operator import itemgetter\n",
    "from tqdm.notebook import tqdm\n",
    "%load_ext autotime"
   ]
  },
  {
   "cell_type": "code",
   "execution_count": 22,
   "metadata": {},
   "outputs": [],
   "source": [
    "pd.set_option('display.max_colwidth', -1)"
   ]
  },
  {
   "cell_type": "markdown",
   "metadata": {},
   "source": [
    "# Data Extraction "
   ]
  },
  {
   "cell_type": "code",
   "execution_count": 5,
   "metadata": {},
   "outputs": [],
   "source": [
    "data = pd.read_csv('hn15Feb_15Aug.csv')"
   ]
  },
  {
   "cell_type": "code",
   "execution_count": 6,
   "metadata": {},
   "outputs": [
    {
     "data": {
      "text/plain": [
       "(8089, 11)"
      ]
     },
     "execution_count": 6,
     "metadata": {},
     "output_type": "execute_result"
    }
   ],
   "source": [
    "data.shape"
   ]
  },
  {
   "cell_type": "code",
   "execution_count": 115,
   "metadata": {},
   "outputs": [
    {
     "data": {
      "text/plain": [
       "pandas.core.series.Series"
      ]
     },
     "execution_count": 115,
     "metadata": {},
     "output_type": "execute_result"
    },
    {
     "name": "stdout",
     "output_type": "stream",
     "text": [
      "time: 4.12 ms\n"
     ]
    }
   ],
   "source": [
    "type(data['TimeGST'])"
   ]
  },
  {
   "cell_type": "code",
   "execution_count": 24,
   "metadata": {},
   "outputs": [
    {
     "data": {
      "text/html": [
       "<div>\n",
       "<style scoped>\n",
       "    .dataframe tbody tr th:only-of-type {\n",
       "        vertical-align: middle;\n",
       "    }\n",
       "\n",
       "    .dataframe tbody tr th {\n",
       "        vertical-align: top;\n",
       "    }\n",
       "\n",
       "    .dataframe thead th {\n",
       "        text-align: right;\n",
       "    }\n",
       "</style>\n",
       "<table border=\"1\" class=\"dataframe\">\n",
       "  <thead>\n",
       "    <tr style=\"text-align: right;\">\n",
       "      <th></th>\n",
       "      <th>ID</th>\n",
       "      <th>Source</th>\n",
       "      <th>TimeGST</th>\n",
       "      <th>TimeEpoch</th>\n",
       "      <th>Upvotes</th>\n",
       "      <th>NumComments</th>\n",
       "      <th>Title</th>\n",
       "      <th>Url</th>\n",
       "      <th>ProcessdedTitle</th>\n",
       "      <th>WeightedContent</th>\n",
       "      <th>Content</th>\n",
       "    </tr>\n",
       "  </thead>\n",
       "  <tbody>\n",
       "    <tr>\n",
       "      <th>0</th>\n",
       "      <td>1</td>\n",
       "      <td>HackerNews</td>\n",
       "      <td>2020-02-29T23:57:52.000Z</td>\n",
       "      <td>1583020672</td>\n",
       "      <td>252</td>\n",
       "      <td>174</td>\n",
       "      <td>Flutter and Dart, or how to quickly build a mobile app without losing your hair</td>\n",
       "      <td>https://altkomsoftware.pl/blog/flutter-dart-quickly-build-mobile-app-without-losing-much-hair/</td>\n",
       "      <td>flutter dart quickly build mobile app without losing hair</td>\n",
       "      <td>flutter flutter dart vm mobile desktop device also used web development tandem alltoofamiliar angular framework aot aheadoftime compilation jit justintime hot reload feature material cupertino look native really widget stateless stateful flutter reactive isolatebased concurrency asyncawait future game using flutter game engine risk flutter still fledgeling sdk flutter dart come google good part bad part known kill retire deemed obsolete always risk flutter might eventually end relatively new technology tool get android studio intellij idea visual studio code flutterdart devtools flutter inspector getting started hello world business mockoon official guide empty app created according flutter official website point barebones flutter project find complete app code find complete app code fig taking look around inspecting foundation pubspecyaml dependency asset version number maindart main commondata dictionariesservice libservices helper using commondata class definition anywhere else commondata instance dictionariesserviceget future dictionariesservice initialize initialize fig awkward preload ux antipattern myapp main build buildcontext fig fig myhomepage flutter material world materialapp material design themedata color typography data material design theme themeof buildcontext primaryswatch accentcolor errorcolor approach caution red industry standard hot reload homepage list tile fig myhomepage scaffold future futurebuilder asyncsnapshot homepagetile widget declaration fig state setstate fn build buildcontext expanded buildminitile buildmaxitile animatedcrossfade fig dictionariesservice get future http map string dynamic jsonannotation fig wizard first two step pretty standard stuff asynchronously perform calculation giving app form form globalkey formstate fig pseudo twowaybinding onchanged setstate fig injecting data form value model initialvalue setstate fill model field processdatasetownerfromaccount reset form thisformkeycurrentstatereset reevaluate initial value model data policy subject different form depending type separate widget one reptileobjectdart fig date control exist may seem strange make perfect sense always preferable use native system method input reptileobjectdart fig validation let put errorcolor work fig asynchronous validation tough luck flutter support future validators reason prevent u facing scenario simply must perform validation serverside sortofaccepted workaround validator perform call toggle local flag save result toggle flag manually trigger validation example linked post possible could cleaner home screen default expanded cover selection better get bad pun one policy holder data autofill option final thought mobile app first go accommodating learning curve pretty easy determine tool disposal small app flutter might prove invaluable tool rapid development community current size warrant small midsized app development community steadily growing largescale project viable le le risk provided killed seen official website google us bigbrand company seem like using much risk anymore chance becoming goto solution mobile apps market fickle trend change flutter seems worthy time</td>\n",
       "      <td>day age steady influx new revolutionary framework frontendrelated mobile one active web development well acquainted constant oversupply fresh ingenious approach lightweight solution complex problem usually solves one issue creates another instead wondering whether technology viable u use currently left equally frustrating choice one pick stumbled upon flutter quite interested giving go could viable contender maybe even serve goto solution would give dilemma least moment pause flutter mobile app ui sdk google utilizes dart vm boast optimized ui specifically also google giving u opportunity develop mobile desktop device dart also used web development even tandem alltoofamiliar angular framework story another day provides u aot aheadoftime compilation native machine code aim fastest possible execution time completed app without much overhead developer offer jit justintime compiler hot reload feature enables one change application without losing state quite nifty pain changing ui deep feature navigate iteration well known anyone ever worked ui important part sdk course control library flutter aim developing android io give option using either material google android cupertino apple io control set mean application switch look whether deployed android io phone look native sweet really use either library use much true uniform ui switching functionality course implemented manually saying something done ever bear mind though functionality like implies managing two different set layout control quickly turn ugly therefore approach made cautiously everything flutter default widget experience angular pretty much fancy component pretty familiar concept base type contains default build method defines look feel customize based passed parameter context widget either stateless stateful stateless widget undergo discernible mutation lifecycle mostly static stateful widget hand built time triggered example watched variable change user performs specific action like click etc would good time mention flutter reactive akin react mean default ongoing refresh loop like angular instead key action performed ui part thereof like one widget redraws according change state already mentioned dart boast optimized ui mean though case rich collection handling isolatebased concurrency asyncawait future say pretty much tell u intended application sdk building business apps rather say game wrong assume people explore making game using flutter though even game engine point trying make mode application seems like perfect fit specific set feature angle decided explore risk although sound quite good also flip side firstly flutter still fledgeling sdk mature age noted alpha launched may released december mean point time post written still one year old release consequence community sizable still quite par currently mainstream technology affect ability find solution common problem might hit dead end one occasion requiring additional work going spec however flutter well documented community evergrowing might mark work progress sort thing rather distinct flaw secondly seen flaw advantage flutter dart come google good part google tech giant want maintain something resource manpower bad part google known introduce useful tech service also known kill retire deemed obsolete always risk flutter might eventually end might happen soon maybe even another couple year yes risk relatively new technology every tech beginning tool get flutter developed within common programming ides got android studio intellij idea also visual studio code plugin mean developer stray far default environment case recently weboriented work choice v code affect development meaningful way text file still fortunately text file target platform android reason choice quite downtoearth simply neither iphone macbook even imac look like installing android studio anyway vm aside ide also flutterdart devtools suite designed monitor app performance provide debugging instrument like flutter inspector act pretty similar webtools counterpart realtime resource monitor potentially huge help finding app performance bottleneck hierarchical inspector seeking possibly redundant nestings plague uis many apps website alike getting started hello world business exciting writing mobile application managing insurance policy important note might try thing different way resulting code inconsistency app supposed contain idea example solve common scenario without deciding one best simple overview apptobe home screen bought policy summary let register policy policy registration achieved via wizard policy different type insurance subject different type user account anonymous use app light client dictionary data operation stored serverside requestresponse body format json api simulated mockoon using v code ide device provided android emulator settled nexus api starting point using official guide empty app created according flutter official website followed point barebones flutter project case got structure find complete app code suggest browsing alongside post referred time part post mainly pointing potentially useful chunk code purpose could serve find complete app code suggest browsing alongside post referred time part post mainly pointing potentially useful chunk code purpose could serve fig initial state project taking look around inspecting foundation file pubspecyaml hold project dependency asset version number pretty straightforward also seeded lot informative comment much work least daily basis important u lib folder lie root application maindart file main method entry point application code go beyond point alright time scaffolding homepage default view route application displaying bunch policy surely getting dictionary api would seem appropriate built singleton service call api service make dictionary available application even start data readily available wherever application end called commondata dictionary api service dictionariesservice located libservices folder also added helper service called helper another naming masterpiece universally used functionality like default padding common conversion etc fig commondatadart commondata singleton internal constructor store instance within static field app using commondata class definition anywhere else commondata instance declared file dictionariesserviceget method return future dictionariesservice basically promise mean either await result continue code execution initialize everything ready use return early want initialize finish received response use await get implementation dictionariesserviceget later bit research turned hooking commondatainitialize run ui even get drawn quite trivial enough place main fig fig commondata get initialized even run app way wherever app always sure commondata initialized app executed initialize completes solution could useful many case like serverstored application profile theme data staging application setup etc case asynchronous operation thought handling home screen display sort loading indicator see action well would prevent user seeing blank screen startup wondering whether application crashed absolutely something app properly start probably best stick operation predictable negligible execution time create separate loading screen animation clear loading message put user ease navigate home upon completion leaving awkward preload application sort ux antipattern let take look myapp class located main body mainly overridden build buildcontext method called every time myapp widget redrawn app one screen home step policy registration wizard policy type product cover owner subject hence conducted careful study subject question fig fig flutter application navigation research navigation flutter called routing created route according one many tutorial fig default initial route myhomepage widget five wizard step see need access build context nice standby fig basic routing flutter app flutter material world good moment mention app us material control set materialapp instance quickly change aesthetic following material design principle themedata class contains color typography data material design theme accessed within application via static method themeof buildcontext hooked various property need change default themedriven value set primaryswatch leading color application various shade accentcolor also assembly color shade app de facto secondary color stick using theme default andor generated value try end le visually appealing ui want use default color swatch easily define lot conceptual work though unless given style guide client would like avoid creating sort aesthetic abomination keep simple also myriad material color swatch generator web offer option generating one provide primary shade option setting errorcolor person toe stuck uiux field advise approach caution standard red pretty much error indication industry standard avoid changing color scheme allows u maybe change shade bit also fun way testing hot reload feature try changing theme color save see app change eye quite satisfying fig example custom color swatch homepage homepage basically list tile represent individual policy expand show detail also option registering new policy tile therefore stateful look mutates page remain stateless yes display list variable length element value change lifecycle note separate tile standalone widget instead handled everything one monster class would stateful fig myhomepage data initialization let start data needed route fig whatever logic place executed time navigate case convenient time end home screen uptodate account data list registered policy way already solved problem facing future refresh home screen completing wizard navigate back inside myhomepage homepagedart finally see ui definition root page aptly named scaffold let u set app bar action button body document various option effectively template general purpose mobile app undefined part omitted ie footer footer empty footer appbar minimal floatingactionbutton initiate new policy wizard backgroundcolor hooked current theme backgroundcolor maintain consistency decide change color course meat matter body policy noted earlier wrapped future ready passed along simple listview futurebuilder fact widget return content based future internal state using snapshot asyncsnapshot variable return different widget depending whether future already finished still progress contains error case return listview done loading indicator pretty standard stuff could probably good idea wrap possible error handling sort universal method helper class accepts snapshotconnectionstate output generic error many option solve borked future sake brevity using none done loading fig futurebuilder action moving homepagetile widget first stateful ui part every statefulwidget consists widget declaration fig state state magic happens fig statefulwidget much look practically state factory ui widget defined state build method every use setstate fn tell framework rebuild reevaluating build buildcontext method updated property value using expanded field value condition whether return mini buildminitile verbose buildmaxitile widget version could course matter simple conditional assignment let make look better animatedcrossfade widget exactly say tin crossfades one child another according crossfadestate fig thanks fact setstate widget get rebuilt possible juggle two state rather unusual scenario getting state specific number tap sound bit like teasing user playing hidden object game unless strongly visually implied fig animatedcrossfade driven expanded value alright know create home screen generic tile mapped user policy time come see app fed data got set mockoon api purpose open dictionariesservice fig fig dictionariesservice much enough see get method marked async mean whatever return wrapped future accommodate promiselike handling http client executes command asynchronously provides response status code mapping json whose type default map string dynamic dto object since dictionary taken liberty creating map iterate entry need display name corresponding specific code ie commondatamaps dictcodeproducttype policytype next let take look dtos default option turning json object fortunately plugins case jsonannotation started watcher flutter package pub run buildrunner watch look jsonserializable annotation create mapping function see fig fig policydart dto class fig policygdart generated jsonannotation simplifies thing greatly u provides easy way map class json wizard two important part almost every conceivable business app form validation let see working checking code insurance policy wizard first two step pretty standard stuff found one skipping want see example asynchronously perform calculation use filling data check step contains dummy implementation one life greatest mystery premium calculation giving app form definition form look pretty standard define form object handle pregenerated globalkey formstate key define element seen file fig fig pretty straightforward form declaration note use helper minimize code clutter form interact data many way possible design line developer preference want pseudo twowaybinding behavior persist value onchanged handler inside setstate wrapper however use dedicated onsaved persist data form ready course decided take class fig hold everpresent wizard sequence form valid save move injecting data form handled ease since passing value model processdata respective control initialvalue update setstate operation simply fill model field processdatasetownerfromaccount reset form using key thisformkeycurrentstatereset cause reevaluate initial value field grabbing straight model reset form though ensure field fill setownerfromaccount get assigned default value still model long persist formstored value one strategy different scenario might encounter different preferred solution easy notice forced deal specific way fig valid save go next step nice clean achieving dynamic form layout differ much classic jshtml shenanigan wizard final step supposed register data policy subject implies use different form depending type car person lizard achieve defining different fieldsets defined separate widget showing one fit choice previous step application one type implemented reptileobjectdart added simply performing check build method fig fig since thinking insuring pet presumably lizard available form definition reptileobject nothing prevents u inserting statement child property supply correct one okay got textboxes dropdown time everyone favorite control date exist may seem strange never chance develop mobile app think little longer make perfect sense always preferable use native system method input example define special use one provided system mobile system date input method form calendar date input readonly textformfield ask system supply value touch example contained within aforementioned reptileobjectdart file fig fig reptileobjectdart textformfield limited amount responsibility tell system user need input date display result action defined ontap handler intercept attempt interact control make show system datepicker instead asynchronous action user take much time required whole method appropriately marked validation let put errorcolor work form place left provide rudimentary data validation convention quite simple form control validator property accepts function value input string output output nonempty content considered validation error message shown appropriate area simple example combined validation two criterion two message seen fig fig simple validation validationsrequired returned error message return otherwise check input valid email address return custom message good well case perform asynchronous validation like username availability check tough luck flutter support future validators likely never stated could break sync validation mixing two good ui practice anyway reason even take fact prevent u facing scenario simply must perform validation serverside alternative loading gigabyte worth data device memory fortunately sortofaccepted workaround pretty simple validator perform call toggle local flag flag display validation message upon call completion save result local variable toggle flag manually trigger form validation way first time validator triggered message shown might show please indicate action progress second time change action result would override hypothetical please wait whole process example available linked post yes async validation possible way stand reason expect sdk support box possible could cleaner nevertheless prevailed app running even take much time thing considered covered basic implementing business app really roadblock think could mark success ready remove loading antipattern clean integrate backend complete rework first round customer feedback let look beaut home screen default expanded cover selection better get bad pun one policy holder data autofill option policy subject screen count leg carefully final thought use flutter creating mobile app decide think one consider thing making decision different people final answer may vary mobile app write first kind say go flutter got quite accommodating learning curve require obscure knowledge tutorial material available make pretty easy determine use specific scenario tool disposal learning framework around year practice deemed obvious describe consequently making hard find relatively new tech question obvious many oheverybodyknowsthat trick buried forever mountain new feature issue experienced mobile developer hand thing stand every new technology committing write advanced multifeature app bigger better got experience technology used however got small app write flutter might prove invaluable tool rapid development term community still growing overwhelmingly vast miniscule either opinion may differ think current size warrant small midsized app development bigger user base edge case researched bigger chance find help need since community steadily growing largescale project becoming viable le le risk provided killed currently many apps developed flutter exotic niche framework anymore seen official website google us bigbrand company well bodes well technology support plan quite enticement least giving try considering relatively fresh tech company probably little rnd greenlighting public app still went seem like using much risk anymore certainly viable given time point get bogged hefty overhead overlycomplicated architecture chance becoming goto solution mobile apps know market fickle trend change never stop u exploring new end flutter seems worthy time author wojciech kuroczycki lead developer</td>\n",
       "    </tr>\n",
       "  </tbody>\n",
       "</table>\n",
       "</div>"
      ],
      "text/plain": [
       "   ID      Source                   TimeGST   TimeEpoch  Upvotes  NumComments  \\\n",
       "0  1   HackerNews  2020-02-29T23:57:52.000Z  1583020672  252      174           \n",
       "\n",
       "                                                                             Title  \\\n",
       "0  Flutter and Dart, or how to quickly build a mobile app without losing your hair   \n",
       "\n",
       "                                                                                              Url  \\\n",
       "0  https://altkomsoftware.pl/blog/flutter-dart-quickly-build-mobile-app-without-losing-much-hair/   \n",
       "\n",
       "                                             ProcessdedTitle  \\\n",
       "0  flutter dart quickly build mobile app without losing hair   \n",
       "\n",
       "                                                                                                                                                                                                                                                                                                                                                                                                                                                                                                                                                                                                                                                                                                                                                                                                                                                                                                                                                                                                                                                                                                                                                                                                                                                                                                                                                                                                                                                                                                                                                                                                                                                                                                                                                                                                                                                                                                                                                                                                                                                                                                                                                                                                                                                                                                                                                                                                                                                                                                                                                                                                                                                                                                                                                                                                                                                                                                                                                                                                                                                                                                                                                                                                                                                                          WeightedContent  \\\n",
       "0  flutter flutter dart vm mobile desktop device also used web development tandem alltoofamiliar angular framework aot aheadoftime compilation jit justintime hot reload feature material cupertino look native really widget stateless stateful flutter reactive isolatebased concurrency asyncawait future game using flutter game engine risk flutter still fledgeling sdk flutter dart come google good part bad part known kill retire deemed obsolete always risk flutter might eventually end relatively new technology tool get android studio intellij idea visual studio code flutterdart devtools flutter inspector getting started hello world business mockoon official guide empty app created according flutter official website point barebones flutter project find complete app code find complete app code fig taking look around inspecting foundation pubspecyaml dependency asset version number maindart main commondata dictionariesservice libservices helper using commondata class definition anywhere else commondata instance dictionariesserviceget future dictionariesservice initialize initialize fig awkward preload ux antipattern myapp main build buildcontext fig fig myhomepage flutter material world materialapp material design themedata color typography data material design theme themeof buildcontext primaryswatch accentcolor errorcolor approach caution red industry standard hot reload homepage list tile fig myhomepage scaffold future futurebuilder asyncsnapshot homepagetile widget declaration fig state setstate fn build buildcontext expanded buildminitile buildmaxitile animatedcrossfade fig dictionariesservice get future http map string dynamic jsonannotation fig wizard first two step pretty standard stuff asynchronously perform calculation giving app form form globalkey formstate fig pseudo twowaybinding onchanged setstate fig injecting data form value model initialvalue setstate fill model field processdatasetownerfromaccount reset form thisformkeycurrentstatereset reevaluate initial value model data policy subject different form depending type separate widget one reptileobjectdart fig date control exist may seem strange make perfect sense always preferable use native system method input reptileobjectdart fig validation let put errorcolor work fig asynchronous validation tough luck flutter support future validators reason prevent u facing scenario simply must perform validation serverside sortofaccepted workaround validator perform call toggle local flag save result toggle flag manually trigger validation example linked post possible could cleaner home screen default expanded cover selection better get bad pun one policy holder data autofill option final thought mobile app first go accommodating learning curve pretty easy determine tool disposal small app flutter might prove invaluable tool rapid development community current size warrant small midsized app development community steadily growing largescale project viable le le risk provided killed seen official website google us bigbrand company seem like using much risk anymore chance becoming goto solution mobile apps market fickle trend change flutter seems worthy time   \n",
       "\n",
       "                                                                                                                                                                                                                                                                                                                                                                                                                                                                                                                                                                                                                                                                                                                                                                                                                                                                                                                                                                                                                                                                                                                                                                                                                                                                                                                                                                                                                                                                                                                                                                                                                                                                                                                                                                                                                                                                                                                                                                                                                                                                                                                                                                                                                                                                                                                                                                                                                                                                                                                                                                                                                                                                                                                                                                                                                                                                                                                                                                                                                                                                                                                                                                                                                                                                                                                                                                                                                                                                                                                                                                                                                                                                                                                                                                                                                                                                                                                                                                                                                                                                                                                                                                                                                                                                                                                                                                                                                                                                                                                                                                                                                                                                                                                                                                                                                                                                                                                                                                                                                                                                                                                                                                                                                                                                                                                                                                                                                                                                                                                                                                                                                                                                                                                                                                                                                                                                                                                                                                                                                                                                                                                                                                                                                                                                                                                                                                                                                                                                                                                                                                                                                                                                                                                                                                                                                                                                                                                                                                                                                                                                                                                                                                                                                                                                                                                                                                                                                                                                                                                                                                                                                                                                                                                                                                                                                                                                                                                                                                                                                                                                                                                                                                                                                                                                                                                                                                                                                                                                                                                                                                                                                                                                                                                                                                                                                                                                                                                                                                                                                                                                                                                                                                                                                                                                                                                                                                                                                                                                                                                                                                                                                                                                                                                                                                                                                                                                                                                                                                                                                                                                                                                                                                                                                                                                                                                                                                                                                                                                                                                                                                                                                                                                                                                                                                                                                                                                                                                                                                                                                                                                                                                                                                                                                                                                                                                                                                                                                                                                                                                                                                                                                                                                                                                                                                                                                                                                                                                                                                                                                                                                                                                                                                                                                                                                                                                                                                                                                                                                                                                                                                                                                                                                                                                                                                                                                                                                                                                                                                                                                                                                                                                                                                                                                                                                                                                                                                                                                                                                                                                                                                                                                                                                                                                                                                                                                                                                                                                                                                                                                                                                                                                                                                                                                                                                                                                                                                                                                                                                                                                                                                                                                                                                                                                                                                                                                                                                                                                                                                                                                                                                                                                                                                                                                                                                                                                                                                                                                                                                                                                                                                                                                                                                                                                                                                                                                                                                                                                                                                                                                                                                                                                                                                                                                                                                                                                                                                                                                                                                                                                                                                                                                                                                                                                                                                                                                                                                                                                                                                                                                                                                                                                                                                                                                                                                                                                                                                                                                                                                                                                                                                                                                                                                                                                                                                                                                                                                                                                                                                                                                                                                                                                                                                                                                                                                                                                                                                                                                                                                                                                                                                                                                                                                                                                                                                                                                                                                                                                                                                                                                                                                                                                                                                                                                                                                                                                                                                                           Content  \n",
       "0  day age steady influx new revolutionary framework frontendrelated mobile one active web development well acquainted constant oversupply fresh ingenious approach lightweight solution complex problem usually solves one issue creates another instead wondering whether technology viable u use currently left equally frustrating choice one pick stumbled upon flutter quite interested giving go could viable contender maybe even serve goto solution would give dilemma least moment pause flutter mobile app ui sdk google utilizes dart vm boast optimized ui specifically also google giving u opportunity develop mobile desktop device dart also used web development even tandem alltoofamiliar angular framework story another day provides u aot aheadoftime compilation native machine code aim fastest possible execution time completed app without much overhead developer offer jit justintime compiler hot reload feature enables one change application without losing state quite nifty pain changing ui deep feature navigate iteration well known anyone ever worked ui important part sdk course control library flutter aim developing android io give option using either material google android cupertino apple io control set mean application switch look whether deployed android io phone look native sweet really use either library use much true uniform ui switching functionality course implemented manually saying something done ever bear mind though functionality like implies managing two different set layout control quickly turn ugly therefore approach made cautiously everything flutter default widget experience angular pretty much fancy component pretty familiar concept base type contains default build method defines look feel customize based passed parameter context widget either stateless stateful stateless widget undergo discernible mutation lifecycle mostly static stateful widget hand built time triggered example watched variable change user performs specific action like click etc would good time mention flutter reactive akin react mean default ongoing refresh loop like angular instead key action performed ui part thereof like one widget redraws according change state already mentioned dart boast optimized ui mean though case rich collection handling isolatebased concurrency asyncawait future say pretty much tell u intended application sdk building business apps rather say game wrong assume people explore making game using flutter though even game engine point trying make mode application seems like perfect fit specific set feature angle decided explore risk although sound quite good also flip side firstly flutter still fledgeling sdk mature age noted alpha launched may released december mean point time post written still one year old release consequence community sizable still quite par currently mainstream technology affect ability find solution common problem might hit dead end one occasion requiring additional work going spec however flutter well documented community evergrowing might mark work progress sort thing rather distinct flaw secondly seen flaw advantage flutter dart come google good part google tech giant want maintain something resource manpower bad part google known introduce useful tech service also known kill retire deemed obsolete always risk flutter might eventually end might happen soon maybe even another couple year yes risk relatively new technology every tech beginning tool get flutter developed within common programming ides got android studio intellij idea also visual studio code plugin mean developer stray far default environment case recently weboriented work choice v code affect development meaningful way text file still fortunately text file target platform android reason choice quite downtoearth simply neither iphone macbook even imac look like installing android studio anyway vm aside ide also flutterdart devtools suite designed monitor app performance provide debugging instrument like flutter inspector act pretty similar webtools counterpart realtime resource monitor potentially huge help finding app performance bottleneck hierarchical inspector seeking possibly redundant nestings plague uis many apps website alike getting started hello world business exciting writing mobile application managing insurance policy important note might try thing different way resulting code inconsistency app supposed contain idea example solve common scenario without deciding one best simple overview apptobe home screen bought policy summary let register policy policy registration achieved via wizard policy different type insurance subject different type user account anonymous use app light client dictionary data operation stored serverside requestresponse body format json api simulated mockoon using v code ide device provided android emulator settled nexus api starting point using official guide empty app created according flutter official website followed point barebones flutter project case got structure find complete app code suggest browsing alongside post referred time part post mainly pointing potentially useful chunk code purpose could serve find complete app code suggest browsing alongside post referred time part post mainly pointing potentially useful chunk code purpose could serve fig initial state project taking look around inspecting foundation file pubspecyaml hold project dependency asset version number pretty straightforward also seeded lot informative comment much work least daily basis important u lib folder lie root application maindart file main method entry point application code go beyond point alright time scaffolding homepage default view route application displaying bunch policy surely getting dictionary api would seem appropriate built singleton service call api service make dictionary available application even start data readily available wherever application end called commondata dictionary api service dictionariesservice located libservices folder also added helper service called helper another naming masterpiece universally used functionality like default padding common conversion etc fig commondatadart commondata singleton internal constructor store instance within static field app using commondata class definition anywhere else commondata instance declared file dictionariesserviceget method return future dictionariesservice basically promise mean either await result continue code execution initialize everything ready use return early want initialize finish received response use await get implementation dictionariesserviceget later bit research turned hooking commondatainitialize run ui even get drawn quite trivial enough place main fig fig commondata get initialized even run app way wherever app always sure commondata initialized app executed initialize completes solution could useful many case like serverstored application profile theme data staging application setup etc case asynchronous operation thought handling home screen display sort loading indicator see action well would prevent user seeing blank screen startup wondering whether application crashed absolutely something app properly start probably best stick operation predictable negligible execution time create separate loading screen animation clear loading message put user ease navigate home upon completion leaving awkward preload application sort ux antipattern let take look myapp class located main body mainly overridden build buildcontext method called every time myapp widget redrawn app one screen home step policy registration wizard policy type product cover owner subject hence conducted careful study subject question fig fig flutter application navigation research navigation flutter called routing created route according one many tutorial fig default initial route myhomepage widget five wizard step see need access build context nice standby fig basic routing flutter app flutter material world good moment mention app us material control set materialapp instance quickly change aesthetic following material design principle themedata class contains color typography data material design theme accessed within application via static method themeof buildcontext hooked various property need change default themedriven value set primaryswatch leading color application various shade accentcolor also assembly color shade app de facto secondary color stick using theme default andor generated value try end le visually appealing ui want use default color swatch easily define lot conceptual work though unless given style guide client would like avoid creating sort aesthetic abomination keep simple also myriad material color swatch generator web offer option generating one provide primary shade option setting errorcolor person toe stuck uiux field advise approach caution standard red pretty much error indication industry standard avoid changing color scheme allows u maybe change shade bit also fun way testing hot reload feature try changing theme color save see app change eye quite satisfying fig example custom color swatch homepage homepage basically list tile represent individual policy expand show detail also option registering new policy tile therefore stateful look mutates page remain stateless yes display list variable length element value change lifecycle note separate tile standalone widget instead handled everything one monster class would stateful fig myhomepage data initialization let start data needed route fig whatever logic place executed time navigate case convenient time end home screen uptodate account data list registered policy way already solved problem facing future refresh home screen completing wizard navigate back inside myhomepage homepagedart finally see ui definition root page aptly named scaffold let u set app bar action button body document various option effectively template general purpose mobile app undefined part omitted ie footer footer empty footer appbar minimal floatingactionbutton initiate new policy wizard backgroundcolor hooked current theme backgroundcolor maintain consistency decide change color course meat matter body policy noted earlier wrapped future ready passed along simple listview futurebuilder fact widget return content based future internal state using snapshot asyncsnapshot variable return different widget depending whether future already finished still progress contains error case return listview done loading indicator pretty standard stuff could probably good idea wrap possible error handling sort universal method helper class accepts snapshotconnectionstate output generic error many option solve borked future sake brevity using none done loading fig futurebuilder action moving homepagetile widget first stateful ui part every statefulwidget consists widget declaration fig state state magic happens fig statefulwidget much look practically state factory ui widget defined state build method every use setstate fn tell framework rebuild reevaluating build buildcontext method updated property value using expanded field value condition whether return mini buildminitile verbose buildmaxitile widget version could course matter simple conditional assignment let make look better animatedcrossfade widget exactly say tin crossfades one child another according crossfadestate fig thanks fact setstate widget get rebuilt possible juggle two state rather unusual scenario getting state specific number tap sound bit like teasing user playing hidden object game unless strongly visually implied fig animatedcrossfade driven expanded value alright know create home screen generic tile mapped user policy time come see app fed data got set mockoon api purpose open dictionariesservice fig fig dictionariesservice much enough see get method marked async mean whatever return wrapped future accommodate promiselike handling http client executes command asynchronously provides response status code mapping json whose type default map string dynamic dto object since dictionary taken liberty creating map iterate entry need display name corresponding specific code ie commondatamaps dictcodeproducttype policytype next let take look dtos default option turning json object fortunately plugins case jsonannotation started watcher flutter package pub run buildrunner watch look jsonserializable annotation create mapping function see fig fig policydart dto class fig policygdart generated jsonannotation simplifies thing greatly u provides easy way map class json wizard two important part almost every conceivable business app form validation let see working checking code insurance policy wizard first two step pretty standard stuff found one skipping want see example asynchronously perform calculation use filling data check step contains dummy implementation one life greatest mystery premium calculation giving app form definition form look pretty standard define form object handle pregenerated globalkey formstate key define element seen file fig fig pretty straightforward form declaration note use helper minimize code clutter form interact data many way possible design line developer preference want pseudo twowaybinding behavior persist value onchanged handler inside setstate wrapper however use dedicated onsaved persist data form ready course decided take class fig hold everpresent wizard sequence form valid save move injecting data form handled ease since passing value model processdata respective control initialvalue update setstate operation simply fill model field processdatasetownerfromaccount reset form using key thisformkeycurrentstatereset cause reevaluate initial value field grabbing straight model reset form though ensure field fill setownerfromaccount get assigned default value still model long persist formstored value one strategy different scenario might encounter different preferred solution easy notice forced deal specific way fig valid save go next step nice clean achieving dynamic form layout differ much classic jshtml shenanigan wizard final step supposed register data policy subject implies use different form depending type car person lizard achieve defining different fieldsets defined separate widget showing one fit choice previous step application one type implemented reptileobjectdart added simply performing check build method fig fig since thinking insuring pet presumably lizard available form definition reptileobject nothing prevents u inserting statement child property supply correct one okay got textboxes dropdown time everyone favorite control date exist may seem strange never chance develop mobile app think little longer make perfect sense always preferable use native system method input example define special use one provided system mobile system date input method form calendar date input readonly textformfield ask system supply value touch example contained within aforementioned reptileobjectdart file fig fig reptileobjectdart textformfield limited amount responsibility tell system user need input date display result action defined ontap handler intercept attempt interact control make show system datepicker instead asynchronous action user take much time required whole method appropriately marked validation let put errorcolor work form place left provide rudimentary data validation convention quite simple form control validator property accepts function value input string output output nonempty content considered validation error message shown appropriate area simple example combined validation two criterion two message seen fig fig simple validation validationsrequired returned error message return otherwise check input valid email address return custom message good well case perform asynchronous validation like username availability check tough luck flutter support future validators likely never stated could break sync validation mixing two good ui practice anyway reason even take fact prevent u facing scenario simply must perform validation serverside alternative loading gigabyte worth data device memory fortunately sortofaccepted workaround pretty simple validator perform call toggle local flag flag display validation message upon call completion save result local variable toggle flag manually trigger form validation way first time validator triggered message shown might show please indicate action progress second time change action result would override hypothetical please wait whole process example available linked post yes async validation possible way stand reason expect sdk support box possible could cleaner nevertheless prevailed app running even take much time thing considered covered basic implementing business app really roadblock think could mark success ready remove loading antipattern clean integrate backend complete rework first round customer feedback let look beaut home screen default expanded cover selection better get bad pun one policy holder data autofill option policy subject screen count leg carefully final thought use flutter creating mobile app decide think one consider thing making decision different people final answer may vary mobile app write first kind say go flutter got quite accommodating learning curve require obscure knowledge tutorial material available make pretty easy determine use specific scenario tool disposal learning framework around year practice deemed obvious describe consequently making hard find relatively new tech question obvious many oheverybodyknowsthat trick buried forever mountain new feature issue experienced mobile developer hand thing stand every new technology committing write advanced multifeature app bigger better got experience technology used however got small app write flutter might prove invaluable tool rapid development term community still growing overwhelmingly vast miniscule either opinion may differ think current size warrant small midsized app development bigger user base edge case researched bigger chance find help need since community steadily growing largescale project becoming viable le le risk provided killed currently many apps developed flutter exotic niche framework anymore seen official website google us bigbrand company well bodes well technology support plan quite enticement least giving try considering relatively fresh tech company probably little rnd greenlighting public app still went seem like using much risk anymore certainly viable given time point get bogged hefty overhead overlycomplicated architecture chance becoming goto solution mobile apps know market fickle trend change never stop u exploring new end flutter seems worthy time author wojciech kuroczycki lead developer  "
      ]
     },
     "execution_count": 24,
     "metadata": {},
     "output_type": "execute_result"
    }
   ],
   "source": [
    "data.head(1)"
   ]
  },
  {
   "cell_type": "code",
   "execution_count": 25,
   "metadata": {},
   "outputs": [
    {
     "name": "stdout",
     "output_type": "stream",
     "text": [
      "<class 'pandas.core.frame.DataFrame'>\n",
      "RangeIndex: 8089 entries, 0 to 8088\n",
      "Data columns (total 11 columns):\n",
      "ID                 8089 non-null int64\n",
      "Source             8089 non-null object\n",
      "TimeGST            8089 non-null object\n",
      "TimeEpoch          8089 non-null int64\n",
      "Upvotes            8089 non-null int64\n",
      "NumComments        8089 non-null int64\n",
      "Title              8089 non-null object\n",
      "Url                8089 non-null object\n",
      "ProcessdedTitle    8081 non-null object\n",
      "WeightedContent    6797 non-null object\n",
      "Content            7857 non-null object\n",
      "dtypes: int64(4), object(7)\n",
      "memory usage: 695.3+ KB\n"
     ]
    }
   ],
   "source": [
    "data.info()"
   ]
  },
  {
   "cell_type": "code",
   "execution_count": 31,
   "metadata": {},
   "outputs": [
    {
     "data": {
      "text/html": [
       "<div>\n",
       "<style scoped>\n",
       "    .dataframe tbody tr th:only-of-type {\n",
       "        vertical-align: middle;\n",
       "    }\n",
       "\n",
       "    .dataframe tbody tr th {\n",
       "        vertical-align: top;\n",
       "    }\n",
       "\n",
       "    .dataframe thead th {\n",
       "        text-align: right;\n",
       "    }\n",
       "</style>\n",
       "<table border=\"1\" class=\"dataframe\">\n",
       "  <thead>\n",
       "    <tr style=\"text-align: right;\">\n",
       "      <th></th>\n",
       "      <th>ID</th>\n",
       "      <th>Source</th>\n",
       "      <th>TimeGST</th>\n",
       "      <th>TimeEpoch</th>\n",
       "      <th>Upvotes</th>\n",
       "      <th>NumComments</th>\n",
       "      <th>Title</th>\n",
       "      <th>Url</th>\n",
       "      <th>ProcessdedTitle</th>\n",
       "      <th>WeightedContent</th>\n",
       "      <th>Content</th>\n",
       "    </tr>\n",
       "  </thead>\n",
       "  <tbody>\n",
       "    <tr>\n",
       "      <th>78</th>\n",
       "      <td>84</td>\n",
       "      <td>HackerNews</td>\n",
       "      <td>2020-02-28T09:12:01.000Z</td>\n",
       "      <td>1582881121</td>\n",
       "      <td>119</td>\n",
       "      <td>81</td>\n",
       "      <td>Why did I wake up before my alarm clock went off? (2015)</td>\n",
       "      <td>https://joearms.github.io/published/2015-03-02-Waking-Up.html</td>\n",
       "      <td>wake alarm clock went</td>\n",
       "      <td>NaN</td>\n",
       "      <td>NaN</td>\n",
       "    </tr>\n",
       "    <tr>\n",
       "      <th>143</th>\n",
       "      <td>154</td>\n",
       "      <td>HackerNews</td>\n",
       "      <td>2020-02-27T02:54:11.000Z</td>\n",
       "      <td>1582772051</td>\n",
       "      <td>554</td>\n",
       "      <td>101</td>\n",
       "      <td>The Simpsons in CSS</td>\n",
       "      <td>https://pattle.github.io/simpsons-in-css/</td>\n",
       "      <td>simpson cs</td>\n",
       "      <td>NaN</td>\n",
       "      <td>NaN</td>\n",
       "    </tr>\n",
       "    <tr>\n",
       "      <th>232</th>\n",
       "      <td>246</td>\n",
       "      <td>HackerNews</td>\n",
       "      <td>2020-02-25T13:34:33.000Z</td>\n",
       "      <td>1582637673</td>\n",
       "      <td>184</td>\n",
       "      <td>54</td>\n",
       "      <td>My favorite Erlang program (2013)</td>\n",
       "      <td>https://joearms.github.io/published/2013-11-21-My-favorite-erlang-program.html</td>\n",
       "      <td>favorite erlang program</td>\n",
       "      <td>NaN</td>\n",
       "      <td>NaN</td>\n",
       "    </tr>\n",
       "    <tr>\n",
       "      <th>267</th>\n",
       "      <td>286</td>\n",
       "      <td>HackerNews</td>\n",
       "      <td>2020-02-24T13:37:51.000Z</td>\n",
       "      <td>1582551471</td>\n",
       "      <td>90</td>\n",
       "      <td>68</td>\n",
       "      <td>Trunk Road Gritter Tracker</td>\n",
       "      <td>http://scotgov.maps.arcgis.com/apps/webappviewer/index.html?id=2de764a9303848ffb9a4cac0bd0b1aab</td>\n",
       "      <td>trunk road gritter tracker</td>\n",
       "      <td>NaN</td>\n",
       "      <td>NaN</td>\n",
       "    </tr>\n",
       "    <tr>\n",
       "      <th>310</th>\n",
       "      <td>334</td>\n",
       "      <td>HackerNews</td>\n",
       "      <td>2020-02-23T15:23:17.000Z</td>\n",
       "      <td>1582471397</td>\n",
       "      <td>99</td>\n",
       "      <td>71</td>\n",
       "      <td>Paper Clay Air Humidifier</td>\n",
       "      <td>https://maximelouis.com/paper-clay-air-humidifier</td>\n",
       "      <td>paper clay air humidifier</td>\n",
       "      <td>NaN</td>\n",
       "      <td>NaN</td>\n",
       "    </tr>\n",
       "    <tr>\n",
       "      <th>...</th>\n",
       "      <td>...</td>\n",
       "      <td>...</td>\n",
       "      <td>...</td>\n",
       "      <td>...</td>\n",
       "      <td>...</td>\n",
       "      <td>...</td>\n",
       "      <td>...</td>\n",
       "      <td>...</td>\n",
       "      <td>...</td>\n",
       "      <td>...</td>\n",
       "      <td>...</td>\n",
       "    </tr>\n",
       "    <tr>\n",
       "      <th>7959</th>\n",
       "      <td>8649</td>\n",
       "      <td>HackerNews</td>\n",
       "      <td>2020-08-03T17:47:24.000Z</td>\n",
       "      <td>1596476844</td>\n",
       "      <td>130</td>\n",
       "      <td>123</td>\n",
       "      <td>Trump fires CEO of TVA over replacing US tech workers with H1B workers</td>\n",
       "      <td>https://fox17.com/news/local/trump-fires-tennessee-valley-authority-chair-citing-hiring-of-foreign-workers</td>\n",
       "      <td>trump fire ceo tva replacing u tech worker worker</td>\n",
       "      <td>NaN</td>\n",
       "      <td>NaN</td>\n",
       "    </tr>\n",
       "    <tr>\n",
       "      <th>7971</th>\n",
       "      <td>8662</td>\n",
       "      <td>HackerNews</td>\n",
       "      <td>2020-08-03T14:01:24.000Z</td>\n",
       "      <td>1596463284</td>\n",
       "      <td>389</td>\n",
       "      <td>84</td>\n",
       "      <td>System UIcons – icons designed for products, no attribution</td>\n",
       "      <td>https://systemuicons.com/</td>\n",
       "      <td>system uicons icon designed product attribution</td>\n",
       "      <td>NaN</td>\n",
       "      <td>NaN</td>\n",
       "    </tr>\n",
       "    <tr>\n",
       "      <th>8013</th>\n",
       "      <td>8706</td>\n",
       "      <td>HackerNews</td>\n",
       "      <td>2020-08-02T15:42:14.000Z</td>\n",
       "      <td>1596382934</td>\n",
       "      <td>112</td>\n",
       "      <td>15</td>\n",
       "      <td>μPlot v1.1 – now with log scales support</td>\n",
       "      <td>https://leeoniya.github.io/uPlot/demos/log-scales.html</td>\n",
       "      <td>μplot log scale support</td>\n",
       "      <td>NaN</td>\n",
       "      <td>NaN</td>\n",
       "    </tr>\n",
       "    <tr>\n",
       "      <th>8015</th>\n",
       "      <td>8708</td>\n",
       "      <td>HackerNews</td>\n",
       "      <td>2020-08-02T14:44:33.000Z</td>\n",
       "      <td>1596379473</td>\n",
       "      <td>371</td>\n",
       "      <td>101</td>\n",
       "      <td>Show HN: Starboard – Fully in-browser literate notebooks like Jupyter Notebook</td>\n",
       "      <td>https://starboard.gg</td>\n",
       "      <td>show hn starboard fully inbrowser literate notebook like jupyter notebook</td>\n",
       "      <td>NaN</td>\n",
       "      <td>NaN</td>\n",
       "    </tr>\n",
       "    <tr>\n",
       "      <th>8019</th>\n",
       "      <td>8712</td>\n",
       "      <td>HackerNews</td>\n",
       "      <td>2020-08-02T12:42:54.000Z</td>\n",
       "      <td>1596372174</td>\n",
       "      <td>108</td>\n",
       "      <td>69</td>\n",
       "      <td>OCaml for the Skeptical: OCaml in a Nutshell (2006)</td>\n",
       "      <td>https://www2.lib.uchicago.edu/keith/ocaml-class/class-01.html</td>\n",
       "      <td>ocaml skeptical ocaml nutshell</td>\n",
       "      <td>NaN</td>\n",
       "      <td>NaN</td>\n",
       "    </tr>\n",
       "  </tbody>\n",
       "</table>\n",
       "<p>232 rows × 11 columns</p>\n",
       "</div>"
      ],
      "text/plain": [
       "        ID      Source                   TimeGST   TimeEpoch  Upvotes  \\\n",
       "78    84    HackerNews  2020-02-28T09:12:01.000Z  1582881121  119       \n",
       "143   154   HackerNews  2020-02-27T02:54:11.000Z  1582772051  554       \n",
       "232   246   HackerNews  2020-02-25T13:34:33.000Z  1582637673  184       \n",
       "267   286   HackerNews  2020-02-24T13:37:51.000Z  1582551471  90        \n",
       "310   334   HackerNews  2020-02-23T15:23:17.000Z  1582471397  99        \n",
       "...   ...          ...                       ...         ...  ..        \n",
       "7959  8649  HackerNews  2020-08-03T17:47:24.000Z  1596476844  130       \n",
       "7971  8662  HackerNews  2020-08-03T14:01:24.000Z  1596463284  389       \n",
       "8013  8706  HackerNews  2020-08-02T15:42:14.000Z  1596382934  112       \n",
       "8015  8708  HackerNews  2020-08-02T14:44:33.000Z  1596379473  371       \n",
       "8019  8712  HackerNews  2020-08-02T12:42:54.000Z  1596372174  108       \n",
       "\n",
       "      NumComments  \\\n",
       "78    81            \n",
       "143   101           \n",
       "232   54            \n",
       "267   68            \n",
       "310   71            \n",
       "...   ..            \n",
       "7959  123           \n",
       "7971  84            \n",
       "8013  15            \n",
       "8015  101           \n",
       "8019  69            \n",
       "\n",
       "                                                                               Title  \\\n",
       "78    Why did I wake up before my alarm clock went off? (2015)                         \n",
       "143   The Simpsons in CSS                                                              \n",
       "232   My favorite Erlang program (2013)                                                \n",
       "267   Trunk Road Gritter Tracker                                                       \n",
       "310   Paper Clay Air Humidifier                                                        \n",
       "...                         ...                                                        \n",
       "7959  Trump fires CEO of TVA over replacing US tech workers with H1B workers           \n",
       "7971  System UIcons – icons designed for products, no attribution                      \n",
       "8013  μPlot v1.1 – now with log scales support                                         \n",
       "8015  Show HN: Starboard – Fully in-browser literate notebooks like Jupyter Notebook   \n",
       "8019  OCaml for the Skeptical: OCaml in a Nutshell (2006)                              \n",
       "\n",
       "                                                                                                             Url  \\\n",
       "78    https://joearms.github.io/published/2015-03-02-Waking-Up.html                                                \n",
       "143   https://pattle.github.io/simpsons-in-css/                                                                    \n",
       "232   https://joearms.github.io/published/2013-11-21-My-favorite-erlang-program.html                               \n",
       "267   http://scotgov.maps.arcgis.com/apps/webappviewer/index.html?id=2de764a9303848ffb9a4cac0bd0b1aab              \n",
       "310   https://maximelouis.com/paper-clay-air-humidifier                                                            \n",
       "...                                                 ...                                                            \n",
       "7959  https://fox17.com/news/local/trump-fires-tennessee-valley-authority-chair-citing-hiring-of-foreign-workers   \n",
       "7971  https://systemuicons.com/                                                                                    \n",
       "8013  https://leeoniya.github.io/uPlot/demos/log-scales.html                                                       \n",
       "8015  https://starboard.gg                                                                                         \n",
       "8019  https://www2.lib.uchicago.edu/keith/ocaml-class/class-01.html                                                \n",
       "\n",
       "                                                                ProcessdedTitle  \\\n",
       "78    wake alarm clock went                                                       \n",
       "143   simpson cs                                                                  \n",
       "232   favorite erlang program                                                     \n",
       "267   trunk road gritter tracker                                                  \n",
       "310   paper clay air humidifier                                                   \n",
       "...                         ...                                                   \n",
       "7959  trump fire ceo tva replacing u tech worker worker                           \n",
       "7971  system uicons icon designed product attribution                             \n",
       "8013  μplot log scale support                                                     \n",
       "8015  show hn starboard fully inbrowser literate notebook like jupyter notebook   \n",
       "8019  ocaml skeptical ocaml nutshell                                              \n",
       "\n",
       "     WeightedContent Content  \n",
       "78    NaN             NaN     \n",
       "143   NaN             NaN     \n",
       "232   NaN             NaN     \n",
       "267   NaN             NaN     \n",
       "310   NaN             NaN     \n",
       "...   ...             ...     \n",
       "7959  NaN             NaN     \n",
       "7971  NaN             NaN     \n",
       "8013  NaN             NaN     \n",
       "8015  NaN             NaN     \n",
       "8019  NaN             NaN     \n",
       "\n",
       "[232 rows x 11 columns]"
      ]
     },
     "execution_count": 31,
     "metadata": {},
     "output_type": "execute_result"
    }
   ],
   "source": [
    "data.loc[data['Content'].isnull()]"
   ]
  },
  {
   "cell_type": "code",
   "execution_count": 33,
   "metadata": {},
   "outputs": [],
   "source": [
    "data.dropna(subset= ['Content'], inplace=True)"
   ]
  },
  {
   "cell_type": "code",
   "execution_count": 36,
   "metadata": {},
   "outputs": [
    {
     "data": {
      "text/html": [
       "<div>\n",
       "<style scoped>\n",
       "    .dataframe tbody tr th:only-of-type {\n",
       "        vertical-align: middle;\n",
       "    }\n",
       "\n",
       "    .dataframe tbody tr th {\n",
       "        vertical-align: top;\n",
       "    }\n",
       "\n",
       "    .dataframe thead th {\n",
       "        text-align: right;\n",
       "    }\n",
       "</style>\n",
       "<table border=\"1\" class=\"dataframe\">\n",
       "  <thead>\n",
       "    <tr style=\"text-align: right;\">\n",
       "      <th></th>\n",
       "      <th>Total</th>\n",
       "      <th>Percent</th>\n",
       "    </tr>\n",
       "  </thead>\n",
       "  <tbody>\n",
       "    <tr>\n",
       "      <th>WeightedContent</th>\n",
       "      <td>1060</td>\n",
       "      <td>13.49</td>\n",
       "    </tr>\n",
       "    <tr>\n",
       "      <th>ProcessdedTitle</th>\n",
       "      <td>8</td>\n",
       "      <td>0.10</td>\n",
       "    </tr>\n",
       "    <tr>\n",
       "      <th>Content</th>\n",
       "      <td>0</td>\n",
       "      <td>0.00</td>\n",
       "    </tr>\n",
       "    <tr>\n",
       "      <th>Url</th>\n",
       "      <td>0</td>\n",
       "      <td>0.00</td>\n",
       "    </tr>\n",
       "    <tr>\n",
       "      <th>Title</th>\n",
       "      <td>0</td>\n",
       "      <td>0.00</td>\n",
       "    </tr>\n",
       "    <tr>\n",
       "      <th>NumComments</th>\n",
       "      <td>0</td>\n",
       "      <td>0.00</td>\n",
       "    </tr>\n",
       "    <tr>\n",
       "      <th>Upvotes</th>\n",
       "      <td>0</td>\n",
       "      <td>0.00</td>\n",
       "    </tr>\n",
       "    <tr>\n",
       "      <th>TimeEpoch</th>\n",
       "      <td>0</td>\n",
       "      <td>0.00</td>\n",
       "    </tr>\n",
       "    <tr>\n",
       "      <th>TimeGST</th>\n",
       "      <td>0</td>\n",
       "      <td>0.00</td>\n",
       "    </tr>\n",
       "    <tr>\n",
       "      <th>Source</th>\n",
       "      <td>0</td>\n",
       "      <td>0.00</td>\n",
       "    </tr>\n",
       "    <tr>\n",
       "      <th>ID</th>\n",
       "      <td>0</td>\n",
       "      <td>0.00</td>\n",
       "    </tr>\n",
       "  </tbody>\n",
       "</table>\n",
       "</div>"
      ],
      "text/plain": [
       "                 Total  Percent\n",
       "WeightedContent  1060   13.49  \n",
       "ProcessdedTitle  8      0.10   \n",
       "Content          0      0.00   \n",
       "Url              0      0.00   \n",
       "Title            0      0.00   \n",
       "NumComments      0      0.00   \n",
       "Upvotes          0      0.00   \n",
       "TimeEpoch        0      0.00   \n",
       "TimeGST          0      0.00   \n",
       "Source           0      0.00   \n",
       "ID               0      0.00   "
      ]
     },
     "execution_count": 36,
     "metadata": {},
     "output_type": "execute_result"
    }
   ],
   "source": [
    "def missing_percentage(df):\n",
    "    total = df.isnull().sum().sort_values(ascending = False)\n",
    "    percent = round(df.isnull().sum().sort_values(ascending = False)/len(df)*100,2)\n",
    "    return pd.concat([total, percent], axis=1, keys=['Total','Percent'])\n",
    "missing_percentage(data)"
   ]
  },
  {
   "cell_type": "markdown",
   "metadata": {},
   "source": [
    "# Cleaning "
   ]
  },
  {
   "cell_type": "code",
   "execution_count": 37,
   "metadata": {},
   "outputs": [],
   "source": [
    "import spacy\n",
    "spacy.load('en')\n",
    "from spacy.lang.en import English\n",
    "parser = English()\n",
    "def tokenize(text):\n",
    "    lda_tokens = []\n",
    "    tokens = parser(text)\n",
    "    for token in tokens:\n",
    "        if token.orth_.isspace():\n",
    "            continue\n",
    "        elif token.like_url:\n",
    "            lda_tokens.append('URL')\n",
    "        elif token.orth_.startswith('@'):\n",
    "            lda_tokens.append('SCREEN_NAME')\n",
    "        else:\n",
    "            lda_tokens.append(token.lower_)\n",
    "    return lda_tokens"
   ]
  },
  {
   "cell_type": "markdown",
   "metadata": {},
   "source": [
    "# Pre-processing the data for modelling "
   ]
  },
  {
   "cell_type": "code",
   "execution_count": 38,
   "metadata": {},
   "outputs": [
    {
     "name": "stderr",
     "output_type": "stream",
     "text": [
      "[nltk_data] Downloading package wordnet to\n",
      "[nltk_data]     /home/richachoudhary/nltk_data...\n",
      "[nltk_data]   Package wordnet is already up-to-date!\n"
     ]
    }
   ],
   "source": [
    "import nltk\n",
    "nltk.download('wordnet')\n",
    "from nltk.corpus import wordnet as wn\n",
    "def get_lemma(word):\n",
    "    lemma = wn.morphy(word)\n",
    "    if lemma is None:\n",
    "        return word\n",
    "    else:\n",
    "        return lemma\n",
    "    \n",
    "from nltk.stem.wordnet import WordNetLemmatizer\n",
    "def get_lemma2(word):\n",
    "    return WordNetLemmatizer().lemmatize(word)"
   ]
  },
  {
   "cell_type": "code",
   "execution_count": 39,
   "metadata": {},
   "outputs": [
    {
     "name": "stderr",
     "output_type": "stream",
     "text": [
      "[nltk_data] Downloading package stopwords to\n",
      "[nltk_data]     /home/richachoudhary/nltk_data...\n",
      "[nltk_data]   Package stopwords is already up-to-date!\n"
     ]
    }
   ],
   "source": [
    "nltk.download('stopwords')\n",
    "en_stop = set(nltk.corpus.stopwords.words('english'))"
   ]
  },
  {
   "cell_type": "code",
   "execution_count": 40,
   "metadata": {},
   "outputs": [],
   "source": [
    "def prepare_text_for_lda(text):\n",
    "    tokens = tokenize(text)\n",
    "    #tokens = [token for token in tokens if len(token) > 4]\n",
    "    tokens = [token for token in tokens if token not in en_stop]\n",
    "    tokens = [get_lemma(token) for token in tokens]\n",
    "    return tokens"
   ]
  },
  {
   "cell_type": "code",
   "execution_count": 41,
   "metadata": {},
   "outputs": [],
   "source": [
    "data['tokens']=  data['Content'].apply(lambda x: prepare_text_for_lda(x))"
   ]
  },
  {
   "cell_type": "code",
   "execution_count": 44,
   "metadata": {},
   "outputs": [
    {
     "data": {
      "text/html": [
       "<div>\n",
       "<style scoped>\n",
       "    .dataframe tbody tr th:only-of-type {\n",
       "        vertical-align: middle;\n",
       "    }\n",
       "\n",
       "    .dataframe tbody tr th {\n",
       "        vertical-align: top;\n",
       "    }\n",
       "\n",
       "    .dataframe thead th {\n",
       "        text-align: right;\n",
       "    }\n",
       "</style>\n",
       "<table border=\"1\" class=\"dataframe\">\n",
       "  <thead>\n",
       "    <tr style=\"text-align: right;\">\n",
       "      <th></th>\n",
       "      <th>ID</th>\n",
       "      <th>Source</th>\n",
       "      <th>TimeGST</th>\n",
       "      <th>TimeEpoch</th>\n",
       "      <th>Upvotes</th>\n",
       "      <th>NumComments</th>\n",
       "      <th>Title</th>\n",
       "      <th>Url</th>\n",
       "      <th>ProcessdedTitle</th>\n",
       "      <th>WeightedContent</th>\n",
       "      <th>Content</th>\n",
       "      <th>tokens</th>\n",
       "    </tr>\n",
       "  </thead>\n",
       "  <tbody>\n",
       "    <tr>\n",
       "      <th>0</th>\n",
       "      <td>1</td>\n",
       "      <td>HackerNews</td>\n",
       "      <td>2020-02-29T23:57:52.000Z</td>\n",
       "      <td>1583020672</td>\n",
       "      <td>252</td>\n",
       "      <td>174</td>\n",
       "      <td>Flutter and Dart, or how to quickly build a mobile app without losing your hair</td>\n",
       "      <td>https://altkomsoftware.pl/blog/flutter-dart-quickly-build-mobile-app-without-losing-much-hair/</td>\n",
       "      <td>flutter dart quickly build mobile app without losing hair</td>\n",
       "      <td>flutter flutter dart vm mobile desktop device also used web development tandem alltoofamiliar angular framework aot aheadoftime compilation jit justintime hot reload feature material cupertino look native really widget stateless stateful flutter reactive isolatebased concurrency asyncawait future game using flutter game engine risk flutter still fledgeling sdk flutter dart come google good part bad part known kill retire deemed obsolete always risk flutter might eventually end relatively new technology tool get android studio intellij idea visual studio code flutterdart devtools flutter inspector getting started hello world business mockoon official guide empty app created according flutter official website point barebones flutter project find complete app code find complete app code fig taking look around inspecting foundation pubspecyaml dependency asset version number maindart main commondata dictionariesservice libservices helper using commondata class definition anywhere else commondata instance dictionariesserviceget future dictionariesservice initialize initialize fig awkward preload ux antipattern myapp main build buildcontext fig fig myhomepage flutter material world materialapp material design themedata color typography data material design theme themeof buildcontext primaryswatch accentcolor errorcolor approach caution red industry standard hot reload homepage list tile fig myhomepage scaffold future futurebuilder asyncsnapshot homepagetile widget declaration fig state setstate fn build buildcontext expanded buildminitile buildmaxitile animatedcrossfade fig dictionariesservice get future http map string dynamic jsonannotation fig wizard first two step pretty standard stuff asynchronously perform calculation giving app form form globalkey formstate fig pseudo twowaybinding onchanged setstate fig injecting data form value model initialvalue setstate fill model field processdatasetownerfromaccount reset form thisformkeycurrentstatereset reevaluate initial value model data policy subject different form depending type separate widget one reptileobjectdart fig date control exist may seem strange make perfect sense always preferable use native system method input reptileobjectdart fig validation let put errorcolor work fig asynchronous validation tough luck flutter support future validators reason prevent u facing scenario simply must perform validation serverside sortofaccepted workaround validator perform call toggle local flag save result toggle flag manually trigger validation example linked post possible could cleaner home screen default expanded cover selection better get bad pun one policy holder data autofill option final thought mobile app first go accommodating learning curve pretty easy determine tool disposal small app flutter might prove invaluable tool rapid development community current size warrant small midsized app development community steadily growing largescale project viable le le risk provided killed seen official website google us bigbrand company seem like using much risk anymore chance becoming goto solution mobile apps market fickle trend change flutter seems worthy time</td>\n",
       "      <td>day age steady influx new revolutionary framework frontendrelated mobile one active web development well acquainted constant oversupply fresh ingenious approach lightweight solution complex problem usually solves one issue creates another instead wondering whether technology viable u use currently left equally frustrating choice one pick stumbled upon flutter quite interested giving go could viable contender maybe even serve goto solution would give dilemma least moment pause flutter mobile app ui sdk google utilizes dart vm boast optimized ui specifically also google giving u opportunity develop mobile desktop device dart also used web development even tandem alltoofamiliar angular framework story another day provides u aot aheadoftime compilation native machine code aim fastest possible execution time completed app without much overhead developer offer jit justintime compiler hot reload feature enables one change application without losing state quite nifty pain changing ui deep feature navigate iteration well known anyone ever worked ui important part sdk course control library flutter aim developing android io give option using either material google android cupertino apple io control set mean application switch look whether deployed android io phone look native sweet really use either library use much true uniform ui switching functionality course implemented manually saying something done ever bear mind though functionality like implies managing two different set layout control quickly turn ugly therefore approach made cautiously everything flutter default widget experience angular pretty much fancy component pretty familiar concept base type contains default build method defines look feel customize based passed parameter context widget either stateless stateful stateless widget undergo discernible mutation lifecycle mostly static stateful widget hand built time triggered example watched variable change user performs specific action like click etc would good time mention flutter reactive akin react mean default ongoing refresh loop like angular instead key action performed ui part thereof like one widget redraws according change state already mentioned dart boast optimized ui mean though case rich collection handling isolatebased concurrency asyncawait future say pretty much tell u intended application sdk building business apps rather say game wrong assume people explore making game using flutter though even game engine point trying make mode application seems like perfect fit specific set feature angle decided explore risk although sound quite good also flip side firstly flutter still fledgeling sdk mature age noted alpha launched may released december mean point time post written still one year old release consequence community sizable still quite par currently mainstream technology affect ability find solution common problem might hit dead end one occasion requiring additional work going spec however flutter well documented community evergrowing might mark work progress sort thing rather distinct flaw secondly seen flaw advantage flutter dart come google good part google tech giant want maintain something resource manpower bad part google known introduce useful tech service also known kill retire deemed obsolete always risk flutter might eventually end might happen soon maybe even another couple year yes risk relatively new technology every tech beginning tool get flutter developed within common programming ides got android studio intellij idea also visual studio code plugin mean developer stray far default environment case recently weboriented work choice v code affect development meaningful way text file still fortunately text file target platform android reason choice quite downtoearth simply neither iphone macbook even imac look like installing android studio anyway vm aside ide also flutterdart devtools suite designed monitor app performance provide debugging instrument like flutter inspector act pretty similar webtools counterpart realtime resource monitor potentially huge help finding app performance bottleneck hierarchical inspector seeking possibly redundant nestings plague uis many apps website alike getting started hello world business exciting writing mobile application managing insurance policy important note might try thing different way resulting code inconsistency app supposed contain idea example solve common scenario without deciding one best simple overview apptobe home screen bought policy summary let register policy policy registration achieved via wizard policy different type insurance subject different type user account anonymous use app light client dictionary data operation stored serverside requestresponse body format json api simulated mockoon using v code ide device provided android emulator settled nexus api starting point using official guide empty app created according flutter official website followed point barebones flutter project case got structure find complete app code suggest browsing alongside post referred time part post mainly pointing potentially useful chunk code purpose could serve find complete app code suggest browsing alongside post referred time part post mainly pointing potentially useful chunk code purpose could serve fig initial state project taking look around inspecting foundation file pubspecyaml hold project dependency asset version number pretty straightforward also seeded lot informative comment much work least daily basis important u lib folder lie root application maindart file main method entry point application code go beyond point alright time scaffolding homepage default view route application displaying bunch policy surely getting dictionary api would seem appropriate built singleton service call api service make dictionary available application even start data readily available wherever application end called commondata dictionary api service dictionariesservice located libservices folder also added helper service called helper another naming masterpiece universally used functionality like default padding common conversion etc fig commondatadart commondata singleton internal constructor store instance within static field app using commondata class definition anywhere else commondata instance declared file dictionariesserviceget method return future dictionariesservice basically promise mean either await result continue code execution initialize everything ready use return early want initialize finish received response use await get implementation dictionariesserviceget later bit research turned hooking commondatainitialize run ui even get drawn quite trivial enough place main fig fig commondata get initialized even run app way wherever app always sure commondata initialized app executed initialize completes solution could useful many case like serverstored application profile theme data staging application setup etc case asynchronous operation thought handling home screen display sort loading indicator see action well would prevent user seeing blank screen startup wondering whether application crashed absolutely something app properly start probably best stick operation predictable negligible execution time create separate loading screen animation clear loading message put user ease navigate home upon completion leaving awkward preload application sort ux antipattern let take look myapp class located main body mainly overridden build buildcontext method called every time myapp widget redrawn app one screen home step policy registration wizard policy type product cover owner subject hence conducted careful study subject question fig fig flutter application navigation research navigation flutter called routing created route according one many tutorial fig default initial route myhomepage widget five wizard step see need access build context nice standby fig basic routing flutter app flutter material world good moment mention app us material control set materialapp instance quickly change aesthetic following material design principle themedata class contains color typography data material design theme accessed within application via static method themeof buildcontext hooked various property need change default themedriven value set primaryswatch leading color application various shade accentcolor also assembly color shade app de facto secondary color stick using theme default andor generated value try end le visually appealing ui want use default color swatch easily define lot conceptual work though unless given style guide client would like avoid creating sort aesthetic abomination keep simple also myriad material color swatch generator web offer option generating one provide primary shade option setting errorcolor person toe stuck uiux field advise approach caution standard red pretty much error indication industry standard avoid changing color scheme allows u maybe change shade bit also fun way testing hot reload feature try changing theme color save see app change eye quite satisfying fig example custom color swatch homepage homepage basically list tile represent individual policy expand show detail also option registering new policy tile therefore stateful look mutates page remain stateless yes display list variable length element value change lifecycle note separate tile standalone widget instead handled everything one monster class would stateful fig myhomepage data initialization let start data needed route fig whatever logic place executed time navigate case convenient time end home screen uptodate account data list registered policy way already solved problem facing future refresh home screen completing wizard navigate back inside myhomepage homepagedart finally see ui definition root page aptly named scaffold let u set app bar action button body document various option effectively template general purpose mobile app undefined part omitted ie footer footer empty footer appbar minimal floatingactionbutton initiate new policy wizard backgroundcolor hooked current theme backgroundcolor maintain consistency decide change color course meat matter body policy noted earlier wrapped future ready passed along simple listview futurebuilder fact widget return content based future internal state using snapshot asyncsnapshot variable return different widget depending whether future already finished still progress contains error case return listview done loading indicator pretty standard stuff could probably good idea wrap possible error handling sort universal method helper class accepts snapshotconnectionstate output generic error many option solve borked future sake brevity using none done loading fig futurebuilder action moving homepagetile widget first stateful ui part every statefulwidget consists widget declaration fig state state magic happens fig statefulwidget much look practically state factory ui widget defined state build method every use setstate fn tell framework rebuild reevaluating build buildcontext method updated property value using expanded field value condition whether return mini buildminitile verbose buildmaxitile widget version could course matter simple conditional assignment let make look better animatedcrossfade widget exactly say tin crossfades one child another according crossfadestate fig thanks fact setstate widget get rebuilt possible juggle two state rather unusual scenario getting state specific number tap sound bit like teasing user playing hidden object game unless strongly visually implied fig animatedcrossfade driven expanded value alright know create home screen generic tile mapped user policy time come see app fed data got set mockoon api purpose open dictionariesservice fig fig dictionariesservice much enough see get method marked async mean whatever return wrapped future accommodate promiselike handling http client executes command asynchronously provides response status code mapping json whose type default map string dynamic dto object since dictionary taken liberty creating map iterate entry need display name corresponding specific code ie commondatamaps dictcodeproducttype policytype next let take look dtos default option turning json object fortunately plugins case jsonannotation started watcher flutter package pub run buildrunner watch look jsonserializable annotation create mapping function see fig fig policydart dto class fig policygdart generated jsonannotation simplifies thing greatly u provides easy way map class json wizard two important part almost every conceivable business app form validation let see working checking code insurance policy wizard first two step pretty standard stuff found one skipping want see example asynchronously perform calculation use filling data check step contains dummy implementation one life greatest mystery premium calculation giving app form definition form look pretty standard define form object handle pregenerated globalkey formstate key define element seen file fig fig pretty straightforward form declaration note use helper minimize code clutter form interact data many way possible design line developer preference want pseudo twowaybinding behavior persist value onchanged handler inside setstate wrapper however use dedicated onsaved persist data form ready course decided take class fig hold everpresent wizard sequence form valid save move injecting data form handled ease since passing value model processdata respective control initialvalue update setstate operation simply fill model field processdatasetownerfromaccount reset form using key thisformkeycurrentstatereset cause reevaluate initial value field grabbing straight model reset form though ensure field fill setownerfromaccount get assigned default value still model long persist formstored value one strategy different scenario might encounter different preferred solution easy notice forced deal specific way fig valid save go next step nice clean achieving dynamic form layout differ much classic jshtml shenanigan wizard final step supposed register data policy subject implies use different form depending type car person lizard achieve defining different fieldsets defined separate widget showing one fit choice previous step application one type implemented reptileobjectdart added simply performing check build method fig fig since thinking insuring pet presumably lizard available form definition reptileobject nothing prevents u inserting statement child property supply correct one okay got textboxes dropdown time everyone favorite control date exist may seem strange never chance develop mobile app think little longer make perfect sense always preferable use native system method input example define special use one provided system mobile system date input method form calendar date input readonly textformfield ask system supply value touch example contained within aforementioned reptileobjectdart file fig fig reptileobjectdart textformfield limited amount responsibility tell system user need input date display result action defined ontap handler intercept attempt interact control make show system datepicker instead asynchronous action user take much time required whole method appropriately marked validation let put errorcolor work form place left provide rudimentary data validation convention quite simple form control validator property accepts function value input string output output nonempty content considered validation error message shown appropriate area simple example combined validation two criterion two message seen fig fig simple validation validationsrequired returned error message return otherwise check input valid email address return custom message good well case perform asynchronous validation like username availability check tough luck flutter support future validators likely never stated could break sync validation mixing two good ui practice anyway reason even take fact prevent u facing scenario simply must perform validation serverside alternative loading gigabyte worth data device memory fortunately sortofaccepted workaround pretty simple validator perform call toggle local flag flag display validation message upon call completion save result local variable toggle flag manually trigger form validation way first time validator triggered message shown might show please indicate action progress second time change action result would override hypothetical please wait whole process example available linked post yes async validation possible way stand reason expect sdk support box possible could cleaner nevertheless prevailed app running even take much time thing considered covered basic implementing business app really roadblock think could mark success ready remove loading antipattern clean integrate backend complete rework first round customer feedback let look beaut home screen default expanded cover selection better get bad pun one policy holder data autofill option policy subject screen count leg carefully final thought use flutter creating mobile app decide think one consider thing making decision different people final answer may vary mobile app write first kind say go flutter got quite accommodating learning curve require obscure knowledge tutorial material available make pretty easy determine use specific scenario tool disposal learning framework around year practice deemed obvious describe consequently making hard find relatively new tech question obvious many oheverybodyknowsthat trick buried forever mountain new feature issue experienced mobile developer hand thing stand every new technology committing write advanced multifeature app bigger better got experience technology used however got small app write flutter might prove invaluable tool rapid development term community still growing overwhelmingly vast miniscule either opinion may differ think current size warrant small midsized app development bigger user base edge case researched bigger chance find help need since community steadily growing largescale project becoming viable le le risk provided killed currently many apps developed flutter exotic niche framework anymore seen official website google us bigbrand company well bodes well technology support plan quite enticement least giving try considering relatively fresh tech company probably little rnd greenlighting public app still went seem like using much risk anymore certainly viable given time point get bogged hefty overhead overlycomplicated architecture chance becoming goto solution mobile apps know market fickle trend change never stop u exploring new end flutter seems worthy time author wojciech kuroczycki lead developer</td>\n",
       "      <td>[day, age, steady, influx, new, revolutionary, framework, frontendrelated, mobile, one, active, web, development, well, acquaint, constant, oversupply, fresh, ingenious, approach, lightweight, solution, complex, problem, usually, solve, one, issue, create, another, instead, wonder, whether, technology, viable, u, use, currently, left, equally, frustrate, choice, one, pick, stumble, upon, flutter, quite, interest, giving, go, could, viable, contender, maybe, even, serve, goto, solution, would, give, dilemma, least, moment, pause, flutter, mobile, app, ui, sdk, google, utilize, dart, vm, boast, optimize, ui, specifically, also, google, giving, u, opportunity, develop, mobile, desktop, device, dart, also, use, web, development, even, tandem, alltoofamiliar, angular, framework, story, another, day, ...]</td>\n",
       "    </tr>\n",
       "  </tbody>\n",
       "</table>\n",
       "</div>"
      ],
      "text/plain": [
       "   ID      Source                   TimeGST   TimeEpoch  Upvotes  NumComments  \\\n",
       "0  1   HackerNews  2020-02-29T23:57:52.000Z  1583020672  252      174           \n",
       "\n",
       "                                                                             Title  \\\n",
       "0  Flutter and Dart, or how to quickly build a mobile app without losing your hair   \n",
       "\n",
       "                                                                                              Url  \\\n",
       "0  https://altkomsoftware.pl/blog/flutter-dart-quickly-build-mobile-app-without-losing-much-hair/   \n",
       "\n",
       "                                             ProcessdedTitle  \\\n",
       "0  flutter dart quickly build mobile app without losing hair   \n",
       "\n",
       "                                                                                                                                                                                                                                                                                                                                                                                                                                                                                                                                                                                                                                                                                                                                                                                                                                                                                                                                                                                                                                                                                                                                                                                                                                                                                                                                                                                                                                                                                                                                                                                                                                                                                                                                                                                                                                                                                                                                                                                                                                                                                                                                                                                                                                                                                                                                                                                                                                                                                                                                                                                                                                                                                                                                                                                                                                                                                                                                                                                                                                                                                                                                                                                                                                                                          WeightedContent  \\\n",
       "0  flutter flutter dart vm mobile desktop device also used web development tandem alltoofamiliar angular framework aot aheadoftime compilation jit justintime hot reload feature material cupertino look native really widget stateless stateful flutter reactive isolatebased concurrency asyncawait future game using flutter game engine risk flutter still fledgeling sdk flutter dart come google good part bad part known kill retire deemed obsolete always risk flutter might eventually end relatively new technology tool get android studio intellij idea visual studio code flutterdart devtools flutter inspector getting started hello world business mockoon official guide empty app created according flutter official website point barebones flutter project find complete app code find complete app code fig taking look around inspecting foundation pubspecyaml dependency asset version number maindart main commondata dictionariesservice libservices helper using commondata class definition anywhere else commondata instance dictionariesserviceget future dictionariesservice initialize initialize fig awkward preload ux antipattern myapp main build buildcontext fig fig myhomepage flutter material world materialapp material design themedata color typography data material design theme themeof buildcontext primaryswatch accentcolor errorcolor approach caution red industry standard hot reload homepage list tile fig myhomepage scaffold future futurebuilder asyncsnapshot homepagetile widget declaration fig state setstate fn build buildcontext expanded buildminitile buildmaxitile animatedcrossfade fig dictionariesservice get future http map string dynamic jsonannotation fig wizard first two step pretty standard stuff asynchronously perform calculation giving app form form globalkey formstate fig pseudo twowaybinding onchanged setstate fig injecting data form value model initialvalue setstate fill model field processdatasetownerfromaccount reset form thisformkeycurrentstatereset reevaluate initial value model data policy subject different form depending type separate widget one reptileobjectdart fig date control exist may seem strange make perfect sense always preferable use native system method input reptileobjectdart fig validation let put errorcolor work fig asynchronous validation tough luck flutter support future validators reason prevent u facing scenario simply must perform validation serverside sortofaccepted workaround validator perform call toggle local flag save result toggle flag manually trigger validation example linked post possible could cleaner home screen default expanded cover selection better get bad pun one policy holder data autofill option final thought mobile app first go accommodating learning curve pretty easy determine tool disposal small app flutter might prove invaluable tool rapid development community current size warrant small midsized app development community steadily growing largescale project viable le le risk provided killed seen official website google us bigbrand company seem like using much risk anymore chance becoming goto solution mobile apps market fickle trend change flutter seems worthy time   \n",
       "\n",
       "                                                                                                                                                                                                                                                                                                                                                                                                                                                                                                                                                                                                                                                                                                                                                                                                                                                                                                                                                                                                                                                                                                                                                                                                                                                                                                                                                                                                                                                                                                                                                                                                                                                                                                                                                                                                                                                                                                                                                                                                                                                                                                                                                                                                                                                                                                                                                                                                                                                                                                                                                                                                                                                                                                                                                                                                                                                                                                                                                                                                                                                                                                                                                                                                                                                                                                                                                                                                                                                                                                                                                                                                                                                                                                                                                                                                                                                                                                                                                                                                                                                                                                                                                                                                                                                                                                                                                                                                                                                                                                                                                                                                                                                                                                                                                                                                                                                                                                                                                                                                                                                                                                                                                                                                                                                                                                                                                                                                                                                                                                                                                                                                                                                                                                                                                                                                                                                                                                                                                                                                                                                                                                                                                                                                                                                                                                                                                                                                                                                                                                                                                                                                                                                                                                                                                                                                                                                                                                                                                                                                                                                                                                                                                                                                                                                                                                                                                                                                                                                                                                                                                                                                                                                                                                                                                                                                                                                                                                                                                                                                                                                                                                                                                                                                                                                                                                                                                                                                                                                                                                                                                                                                                                                                                                                                                                                                                                                                                                                                                                                                                                                                                                                                                                                                                                                                                                                                                                                                                                                                                                                                                                                                                                                                                                                                                                                                                                                                                                                                                                                                                                                                                                                                                                                                                                                                                                                                                                                                                                                                                                                                                                                                                                                                                                                                                                                                                                                                                                                                                                                                                                                                                                                                                                                                                                                                                                                                                                                                                                                                                                                                                                                                                                                                                                                                                                                                                                                                                                                                                                                                                                                                                                                                                                                                                                                                                                                                                                                                                                                                                                                                                                                                                                                                                                                                                                                                                                                                                                                                                                                                                                                                                                                                                                                                                                                                                                                                                                                                                                                                                                                                                                                                                                                                                                                                                                                                                                                                                                                                                                                                                                                                                                                                                                                                                                                                                                                                                                                                                                                                                                                                                                                                                                                                                                                                                                                                                                                                                                                                                                                                                                                                                                                                                                                                                                                                                                                                                                                                                                                                                                                                                                                                                                                                                                                                                                                                                                                                                                                                                                                                                                                                                                                                                                                                                                                                                                                                                                                                                                                                                                                                                                                                                                                                                                                                                                                                                                                                                                                                                                                                                                                                                                                                                                                                                                                                                                                                                                                                                                                                                                                                                                                                                                                                                                                                                                                                                                                                                                                                                                                                                                                                                                                                                                                                                                                                                                                                                                                                                                                                                                                                                                                                                                                                                                                                                                                                                                                                                                                                                                                                                                                                                                                                                                                                                                                                                                                                                                                           Content  \\\n",
       "0  day age steady influx new revolutionary framework frontendrelated mobile one active web development well acquainted constant oversupply fresh ingenious approach lightweight solution complex problem usually solves one issue creates another instead wondering whether technology viable u use currently left equally frustrating choice one pick stumbled upon flutter quite interested giving go could viable contender maybe even serve goto solution would give dilemma least moment pause flutter mobile app ui sdk google utilizes dart vm boast optimized ui specifically also google giving u opportunity develop mobile desktop device dart also used web development even tandem alltoofamiliar angular framework story another day provides u aot aheadoftime compilation native machine code aim fastest possible execution time completed app without much overhead developer offer jit justintime compiler hot reload feature enables one change application without losing state quite nifty pain changing ui deep feature navigate iteration well known anyone ever worked ui important part sdk course control library flutter aim developing android io give option using either material google android cupertino apple io control set mean application switch look whether deployed android io phone look native sweet really use either library use much true uniform ui switching functionality course implemented manually saying something done ever bear mind though functionality like implies managing two different set layout control quickly turn ugly therefore approach made cautiously everything flutter default widget experience angular pretty much fancy component pretty familiar concept base type contains default build method defines look feel customize based passed parameter context widget either stateless stateful stateless widget undergo discernible mutation lifecycle mostly static stateful widget hand built time triggered example watched variable change user performs specific action like click etc would good time mention flutter reactive akin react mean default ongoing refresh loop like angular instead key action performed ui part thereof like one widget redraws according change state already mentioned dart boast optimized ui mean though case rich collection handling isolatebased concurrency asyncawait future say pretty much tell u intended application sdk building business apps rather say game wrong assume people explore making game using flutter though even game engine point trying make mode application seems like perfect fit specific set feature angle decided explore risk although sound quite good also flip side firstly flutter still fledgeling sdk mature age noted alpha launched may released december mean point time post written still one year old release consequence community sizable still quite par currently mainstream technology affect ability find solution common problem might hit dead end one occasion requiring additional work going spec however flutter well documented community evergrowing might mark work progress sort thing rather distinct flaw secondly seen flaw advantage flutter dart come google good part google tech giant want maintain something resource manpower bad part google known introduce useful tech service also known kill retire deemed obsolete always risk flutter might eventually end might happen soon maybe even another couple year yes risk relatively new technology every tech beginning tool get flutter developed within common programming ides got android studio intellij idea also visual studio code plugin mean developer stray far default environment case recently weboriented work choice v code affect development meaningful way text file still fortunately text file target platform android reason choice quite downtoearth simply neither iphone macbook even imac look like installing android studio anyway vm aside ide also flutterdart devtools suite designed monitor app performance provide debugging instrument like flutter inspector act pretty similar webtools counterpart realtime resource monitor potentially huge help finding app performance bottleneck hierarchical inspector seeking possibly redundant nestings plague uis many apps website alike getting started hello world business exciting writing mobile application managing insurance policy important note might try thing different way resulting code inconsistency app supposed contain idea example solve common scenario without deciding one best simple overview apptobe home screen bought policy summary let register policy policy registration achieved via wizard policy different type insurance subject different type user account anonymous use app light client dictionary data operation stored serverside requestresponse body format json api simulated mockoon using v code ide device provided android emulator settled nexus api starting point using official guide empty app created according flutter official website followed point barebones flutter project case got structure find complete app code suggest browsing alongside post referred time part post mainly pointing potentially useful chunk code purpose could serve find complete app code suggest browsing alongside post referred time part post mainly pointing potentially useful chunk code purpose could serve fig initial state project taking look around inspecting foundation file pubspecyaml hold project dependency asset version number pretty straightforward also seeded lot informative comment much work least daily basis important u lib folder lie root application maindart file main method entry point application code go beyond point alright time scaffolding homepage default view route application displaying bunch policy surely getting dictionary api would seem appropriate built singleton service call api service make dictionary available application even start data readily available wherever application end called commondata dictionary api service dictionariesservice located libservices folder also added helper service called helper another naming masterpiece universally used functionality like default padding common conversion etc fig commondatadart commondata singleton internal constructor store instance within static field app using commondata class definition anywhere else commondata instance declared file dictionariesserviceget method return future dictionariesservice basically promise mean either await result continue code execution initialize everything ready use return early want initialize finish received response use await get implementation dictionariesserviceget later bit research turned hooking commondatainitialize run ui even get drawn quite trivial enough place main fig fig commondata get initialized even run app way wherever app always sure commondata initialized app executed initialize completes solution could useful many case like serverstored application profile theme data staging application setup etc case asynchronous operation thought handling home screen display sort loading indicator see action well would prevent user seeing blank screen startup wondering whether application crashed absolutely something app properly start probably best stick operation predictable negligible execution time create separate loading screen animation clear loading message put user ease navigate home upon completion leaving awkward preload application sort ux antipattern let take look myapp class located main body mainly overridden build buildcontext method called every time myapp widget redrawn app one screen home step policy registration wizard policy type product cover owner subject hence conducted careful study subject question fig fig flutter application navigation research navigation flutter called routing created route according one many tutorial fig default initial route myhomepage widget five wizard step see need access build context nice standby fig basic routing flutter app flutter material world good moment mention app us material control set materialapp instance quickly change aesthetic following material design principle themedata class contains color typography data material design theme accessed within application via static method themeof buildcontext hooked various property need change default themedriven value set primaryswatch leading color application various shade accentcolor also assembly color shade app de facto secondary color stick using theme default andor generated value try end le visually appealing ui want use default color swatch easily define lot conceptual work though unless given style guide client would like avoid creating sort aesthetic abomination keep simple also myriad material color swatch generator web offer option generating one provide primary shade option setting errorcolor person toe stuck uiux field advise approach caution standard red pretty much error indication industry standard avoid changing color scheme allows u maybe change shade bit also fun way testing hot reload feature try changing theme color save see app change eye quite satisfying fig example custom color swatch homepage homepage basically list tile represent individual policy expand show detail also option registering new policy tile therefore stateful look mutates page remain stateless yes display list variable length element value change lifecycle note separate tile standalone widget instead handled everything one monster class would stateful fig myhomepage data initialization let start data needed route fig whatever logic place executed time navigate case convenient time end home screen uptodate account data list registered policy way already solved problem facing future refresh home screen completing wizard navigate back inside myhomepage homepagedart finally see ui definition root page aptly named scaffold let u set app bar action button body document various option effectively template general purpose mobile app undefined part omitted ie footer footer empty footer appbar minimal floatingactionbutton initiate new policy wizard backgroundcolor hooked current theme backgroundcolor maintain consistency decide change color course meat matter body policy noted earlier wrapped future ready passed along simple listview futurebuilder fact widget return content based future internal state using snapshot asyncsnapshot variable return different widget depending whether future already finished still progress contains error case return listview done loading indicator pretty standard stuff could probably good idea wrap possible error handling sort universal method helper class accepts snapshotconnectionstate output generic error many option solve borked future sake brevity using none done loading fig futurebuilder action moving homepagetile widget first stateful ui part every statefulwidget consists widget declaration fig state state magic happens fig statefulwidget much look practically state factory ui widget defined state build method every use setstate fn tell framework rebuild reevaluating build buildcontext method updated property value using expanded field value condition whether return mini buildminitile verbose buildmaxitile widget version could course matter simple conditional assignment let make look better animatedcrossfade widget exactly say tin crossfades one child another according crossfadestate fig thanks fact setstate widget get rebuilt possible juggle two state rather unusual scenario getting state specific number tap sound bit like teasing user playing hidden object game unless strongly visually implied fig animatedcrossfade driven expanded value alright know create home screen generic tile mapped user policy time come see app fed data got set mockoon api purpose open dictionariesservice fig fig dictionariesservice much enough see get method marked async mean whatever return wrapped future accommodate promiselike handling http client executes command asynchronously provides response status code mapping json whose type default map string dynamic dto object since dictionary taken liberty creating map iterate entry need display name corresponding specific code ie commondatamaps dictcodeproducttype policytype next let take look dtos default option turning json object fortunately plugins case jsonannotation started watcher flutter package pub run buildrunner watch look jsonserializable annotation create mapping function see fig fig policydart dto class fig policygdart generated jsonannotation simplifies thing greatly u provides easy way map class json wizard two important part almost every conceivable business app form validation let see working checking code insurance policy wizard first two step pretty standard stuff found one skipping want see example asynchronously perform calculation use filling data check step contains dummy implementation one life greatest mystery premium calculation giving app form definition form look pretty standard define form object handle pregenerated globalkey formstate key define element seen file fig fig pretty straightforward form declaration note use helper minimize code clutter form interact data many way possible design line developer preference want pseudo twowaybinding behavior persist value onchanged handler inside setstate wrapper however use dedicated onsaved persist data form ready course decided take class fig hold everpresent wizard sequence form valid save move injecting data form handled ease since passing value model processdata respective control initialvalue update setstate operation simply fill model field processdatasetownerfromaccount reset form using key thisformkeycurrentstatereset cause reevaluate initial value field grabbing straight model reset form though ensure field fill setownerfromaccount get assigned default value still model long persist formstored value one strategy different scenario might encounter different preferred solution easy notice forced deal specific way fig valid save go next step nice clean achieving dynamic form layout differ much classic jshtml shenanigan wizard final step supposed register data policy subject implies use different form depending type car person lizard achieve defining different fieldsets defined separate widget showing one fit choice previous step application one type implemented reptileobjectdart added simply performing check build method fig fig since thinking insuring pet presumably lizard available form definition reptileobject nothing prevents u inserting statement child property supply correct one okay got textboxes dropdown time everyone favorite control date exist may seem strange never chance develop mobile app think little longer make perfect sense always preferable use native system method input example define special use one provided system mobile system date input method form calendar date input readonly textformfield ask system supply value touch example contained within aforementioned reptileobjectdart file fig fig reptileobjectdart textformfield limited amount responsibility tell system user need input date display result action defined ontap handler intercept attempt interact control make show system datepicker instead asynchronous action user take much time required whole method appropriately marked validation let put errorcolor work form place left provide rudimentary data validation convention quite simple form control validator property accepts function value input string output output nonempty content considered validation error message shown appropriate area simple example combined validation two criterion two message seen fig fig simple validation validationsrequired returned error message return otherwise check input valid email address return custom message good well case perform asynchronous validation like username availability check tough luck flutter support future validators likely never stated could break sync validation mixing two good ui practice anyway reason even take fact prevent u facing scenario simply must perform validation serverside alternative loading gigabyte worth data device memory fortunately sortofaccepted workaround pretty simple validator perform call toggle local flag flag display validation message upon call completion save result local variable toggle flag manually trigger form validation way first time validator triggered message shown might show please indicate action progress second time change action result would override hypothetical please wait whole process example available linked post yes async validation possible way stand reason expect sdk support box possible could cleaner nevertheless prevailed app running even take much time thing considered covered basic implementing business app really roadblock think could mark success ready remove loading antipattern clean integrate backend complete rework first round customer feedback let look beaut home screen default expanded cover selection better get bad pun one policy holder data autofill option policy subject screen count leg carefully final thought use flutter creating mobile app decide think one consider thing making decision different people final answer may vary mobile app write first kind say go flutter got quite accommodating learning curve require obscure knowledge tutorial material available make pretty easy determine use specific scenario tool disposal learning framework around year practice deemed obvious describe consequently making hard find relatively new tech question obvious many oheverybodyknowsthat trick buried forever mountain new feature issue experienced mobile developer hand thing stand every new technology committing write advanced multifeature app bigger better got experience technology used however got small app write flutter might prove invaluable tool rapid development term community still growing overwhelmingly vast miniscule either opinion may differ think current size warrant small midsized app development bigger user base edge case researched bigger chance find help need since community steadily growing largescale project becoming viable le le risk provided killed currently many apps developed flutter exotic niche framework anymore seen official website google us bigbrand company well bodes well technology support plan quite enticement least giving try considering relatively fresh tech company probably little rnd greenlighting public app still went seem like using much risk anymore certainly viable given time point get bogged hefty overhead overlycomplicated architecture chance becoming goto solution mobile apps know market fickle trend change never stop u exploring new end flutter seems worthy time author wojciech kuroczycki lead developer   \n",
       "\n",
       "                                                                                                                                                                                                                                                                                                                                                                                                                                                                                                                                                                                                                                                                                                                                                                                                                                       tokens  \n",
       "0  [day, age, steady, influx, new, revolutionary, framework, frontendrelated, mobile, one, active, web, development, well, acquaint, constant, oversupply, fresh, ingenious, approach, lightweight, solution, complex, problem, usually, solve, one, issue, create, another, instead, wonder, whether, technology, viable, u, use, currently, left, equally, frustrate, choice, one, pick, stumble, upon, flutter, quite, interest, giving, go, could, viable, contender, maybe, even, serve, goto, solution, would, give, dilemma, least, moment, pause, flutter, mobile, app, ui, sdk, google, utilize, dart, vm, boast, optimize, ui, specifically, also, google, giving, u, opportunity, develop, mobile, desktop, device, dart, also, use, web, development, even, tandem, alltoofamiliar, angular, framework, story, another, day, ...]  "
      ]
     },
     "execution_count": 44,
     "metadata": {},
     "output_type": "execute_result"
    },
    {
     "name": "stdout",
     "output_type": "stream",
     "text": [
      "time: 26.2 ms\n"
     ]
    }
   ],
   "source": [
    "data.head(1)"
   ]
  },
  {
   "cell_type": "markdown",
   "metadata": {},
   "source": [
    "# EDA "
   ]
  },
  {
   "cell_type": "code",
   "execution_count": 45,
   "metadata": {},
   "outputs": [
    {
     "data": {
      "text/plain": [
       "793.2825505918289"
      ]
     },
     "execution_count": 45,
     "metadata": {},
     "output_type": "execute_result"
    },
    {
     "name": "stdout",
     "output_type": "stream",
     "text": [
      "time: 927 ms\n"
     ]
    }
   ],
   "source": [
    "# Get the word count\n",
    "def word_count(text):\n",
    "    return len(str(text).split(' '))\n",
    "data['word_count'] = data['tokens'].apply(word_count)\n",
    "data['word_count'].mean()"
   ]
  },
  {
   "cell_type": "code",
   "execution_count": 48,
   "metadata": {},
   "outputs": [
    {
     "data": {
      "text/plain": [
       "count    7857.000000 \n",
       "mean     794.001018  \n",
       "std      2273.131601 \n",
       "min      1.000000    \n",
       "25%      174.000000  \n",
       "50%      422.000000  \n",
       "75%      846.000000  \n",
       "max      86592.000000\n",
       "Name: word_count, dtype: float64"
      ]
     },
     "execution_count": 48,
     "metadata": {},
     "output_type": "execute_result"
    },
    {
     "name": "stdout",
     "output_type": "stream",
     "text": [
      "time: 24.1 ms\n"
     ]
    }
   ],
   "source": [
    "data['word_count'].describe()"
   ]
  },
  {
   "cell_type": "code",
   "execution_count": 85,
   "metadata": {},
   "outputs": [
    {
     "data": {
      "image/png": "[encoded data removed]",
      "text/plain": [
       "<Figure size 360x360 with 1 Axes>"
      ]
     },
     "metadata": {},
     "output_type": "display_data"
    },
    {
     "name": "stdout",
     "output_type": "stream",
     "text": [
      "time: 440 ms\n"
     ]
    }
   ],
   "source": [
    "# Plot a hist of the word counts\n",
    "fig = plt.figure(figsize=(5,5))\n",
    "\n",
    "plt.hist(\n",
    "    data['word_count'],\n",
    "    bins=100,\n",
    "    color='#60505C'\n",
    ")\n",
    "\n",
    "plt.title('Distribution - Article Word Count', fontsize=16)\n",
    "plt.ylabel('Frequency', fontsize=12)\n",
    "plt.xlabel('Word Count', fontsize=12)\n",
    "plt.yticks(np.arange(0, 7000, 500))\n",
    "plt.xticks(np.arange(0, 1000, 100))\n",
    "\n",
    "plt.show()"
   ]
  },
  {
   "cell_type": "code",
   "execution_count": 93,
   "metadata": {},
   "outputs": [
    {
     "data": {
      "image/png": "[encoded data removed]",
      "text/plain": [
       "<Figure size 288x648 with 1 Axes>"
      ]
     },
     "metadata": {},
     "output_type": "display_data"
    },
    {
     "name": "stdout",
     "output_type": "stream",
     "text": [
      "time: 1.34 s\n"
     ]
    }
   ],
   "source": [
    "\n",
    "# Plot a boxplot of the word counts\n",
    "fig = plt.figure(figsize=(4,9))\n",
    "\n",
    "sns.boxplot(\n",
    "    data['word_count'],\n",
    "    orient='v',\n",
    "    width=500,\n",
    "    color='#ff8080'\n",
    ")\n",
    "\n",
    "plt.ylabel(\"Word Count\", fontsize=12)\n",
    "plt.title('Distribution - Article Word Count', fontsize=16)\n",
    "plt.yticks(np.arange(0, 70000, 500))\n",
    "\n",
    "file_name = 'box_plot'\n",
    "\n",
    "plt.show()"
   ]
  },
  {
   "cell_type": "code",
   "execution_count": 99,
   "metadata": {},
   "outputs": [
    {
     "data": {
      "text/html": [
       "<div>\n",
       "<style scoped>\n",
       "    .dataframe tbody tr th:only-of-type {\n",
       "        vertical-align: middle;\n",
       "    }\n",
       "\n",
       "    .dataframe tbody tr th {\n",
       "        vertical-align: top;\n",
       "    }\n",
       "\n",
       "    .dataframe thead th {\n",
       "        text-align: right;\n",
       "    }\n",
       "</style>\n",
       "<table border=\"1\" class=\"dataframe\">\n",
       "  <thead>\n",
       "    <tr style=\"text-align: right;\">\n",
       "      <th></th>\n",
       "      <th>word</th>\n",
       "      <th>frequency</th>\n",
       "    </tr>\n",
       "  </thead>\n",
       "  <tbody>\n",
       "    <tr>\n",
       "      <th>0</th>\n",
       "      <td>use</td>\n",
       "      <td>33573</td>\n",
       "    </tr>\n",
       "    <tr>\n",
       "      <th>1</th>\n",
       "      <td>one</td>\n",
       "      <td>29236</td>\n",
       "    </tr>\n",
       "    <tr>\n",
       "      <th>2</th>\n",
       "      <td>time</td>\n",
       "      <td>24266</td>\n",
       "    </tr>\n",
       "    <tr>\n",
       "      <th>3</th>\n",
       "      <td>make</td>\n",
       "      <td>23693</td>\n",
       "    </tr>\n",
       "    <tr>\n",
       "      <th>4</th>\n",
       "      <td>like</td>\n",
       "      <td>22438</td>\n",
       "    </tr>\n",
       "    <tr>\n",
       "      <th>...</th>\n",
       "      <td>...</td>\n",
       "      <td>...</td>\n",
       "    </tr>\n",
       "    <tr>\n",
       "      <th>1995</th>\n",
       "      <td>particle</td>\n",
       "      <td>549</td>\n",
       "    </tr>\n",
       "    <tr>\n",
       "      <th>1996</th>\n",
       "      <td>heap</td>\n",
       "      <td>549</td>\n",
       "    </tr>\n",
       "    <tr>\n",
       "      <th>1997</th>\n",
       "      <td>audience</td>\n",
       "      <td>549</td>\n",
       "    </tr>\n",
       "    <tr>\n",
       "      <th>1998</th>\n",
       "      <td>zone</td>\n",
       "      <td>548</td>\n",
       "    </tr>\n",
       "    <tr>\n",
       "      <th>1999</th>\n",
       "      <td>attach</td>\n",
       "      <td>548</td>\n",
       "    </tr>\n",
       "  </tbody>\n",
       "</table>\n",
       "<p>2000 rows × 2 columns</p>\n",
       "</div>"
      ],
      "text/plain": [
       "          word  frequency\n",
       "0     use       33573    \n",
       "1     one       29236    \n",
       "2     time      24266    \n",
       "3     make      23693    \n",
       "4     like      22438    \n",
       "...    ...        ...    \n",
       "1995  particle  549      \n",
       "1996  heap      549      \n",
       "1997  audience  549      \n",
       "1998  zone      548      \n",
       "1999  attach    548      \n",
       "\n",
       "[2000 rows x 2 columns]"
      ]
     },
     "execution_count": 99,
     "metadata": {},
     "output_type": "execute_result"
    },
    {
     "name": "stdout",
     "output_type": "stream",
     "text": [
      "time: 1.21 s\n"
     ]
    }
   ],
   "source": [
    "\n",
    "# Get the top 20 most common words among all the articles\n",
    "p_text = data['tokens']\n",
    "\n",
    "# Flaten the list of lists\n",
    "p_text = [item for sublist in p_text for item in sublist]\n",
    "\n",
    "# Top 20\n",
    "top_20 = pd.DataFrame(\n",
    "    Counter(p_text).most_common(2000),\n",
    "    columns=['word', 'frequency']\n",
    ")\n",
    "\n",
    "top_20"
   ]
  },
  {
   "cell_type": "code",
   "execution_count": 95,
   "metadata": {},
   "outputs": [
    {
     "data": {
      "image/png": "[encoded data removed]",
      "text/plain": [
       "<Figure size 1440x504 with 1 Axes>"
      ]
     },
     "metadata": {},
     "output_type": "display_data"
    },
    {
     "name": "stdout",
     "output_type": "stream",
     "text": [
      "time: 733 ms\n"
     ]
    }
   ],
   "source": [
    "# Plot a bar chart for the top 20 most frequently occuring words\n",
    "fig = plt.figure(figsize=(20,7))\n",
    "\n",
    "g = sns.barplot(\n",
    "    x='word',\n",
    "    y='frequency',\n",
    "    data=top_20,\n",
    "    palette='GnBu_d'\n",
    ")\n",
    "\n",
    "g.set_xticklabels(\n",
    "    g.get_xticklabels(),\n",
    "    rotation=45,\n",
    "    fontsize=14\n",
    ")\n",
    "\n",
    "plt.yticks(fontsize=14)\n",
    "plt.xlabel('Words', fontsize=14)\n",
    "plt.ylabel('Frequency', fontsize=14)\n",
    "plt.title('Top 20 Words', fontsize=17)\n",
    "\n",
    "plt.show()"
   ]
  },
  {
   "cell_type": "code",
   "execution_count": 96,
   "metadata": {},
   "outputs": [
    {
     "data": {
      "text/plain": [
       "218798"
      ]
     },
     "execution_count": 96,
     "metadata": {},
     "output_type": "execute_result"
    },
    {
     "name": "stdout",
     "output_type": "stream",
     "text": [
      "time: 382 ms\n"
     ]
    }
   ],
   "source": [
    "# Get the number of unique words after processing\n",
    "num_unique_words = len(set(p_text))\n",
    "num_unique_words"
   ]
  },
  {
   "cell_type": "code",
   "execution_count": 104,
   "metadata": {},
   "outputs": [
    {
     "name": "stdout",
     "output_type": "stream",
     "text": [
      "time: 883 µs\n"
     ]
    }
   ],
   "source": [
    "import time "
   ]
  },
  {
   "cell_type": "code",
   "execution_count": 108,
   "metadata": {},
   "outputs": [
    {
     "name": "stderr",
     "output_type": "stream",
     "text": [
      "Traceback (most recent call last):\n",
      "  File \"/usr/lib/python3.6/multiprocessing/queues.py\", line 240, in _feed\n",
      "    send_bytes(obj)\n",
      "  File \"/usr/lib/python3.6/multiprocessing/connection.py\", line 200, in send_bytes\n",
      "    self._send_bytes(m[offset:offset + size])\n",
      "  File \"/usr/lib/python3.6/multiprocessing/connection.py\", line 398, in _send_bytes\n",
      "    self._send(buf)\n",
      "  File \"/usr/lib/python3.6/multiprocessing/connection.py\", line 368, in _send\n",
      "    n = write(self._handle, buf)\n",
      "BrokenPipeError: [Errno 32] Broken pipe\n",
      "Traceback (most recent call last):\n",
      "  File \"/usr/lib/python3.6/multiprocessing/queues.py\", line 240, in _feed\n",
      "    send_bytes(obj)\n",
      "  File \"/usr/lib/python3.6/multiprocessing/connection.py\", line 200, in send_bytes\n",
      "    self._send_bytes(m[offset:offset + size])\n",
      "  File \"/usr/lib/python3.6/multiprocessing/connection.py\", line 397, in _send_bytes\n",
      "    self._send(header)\n",
      "  File \"/usr/lib/python3.6/multiprocessing/connection.py\", line 368, in _send\n",
      "    n = write(self._handle, buf)\n",
      "BrokenPipeError: [Errno 32] Broken pipe\n",
      "Traceback (most recent call last):\n",
      "  File \"/usr/lib/python3.6/multiprocessing/queues.py\", line 240, in _feed\n",
      "    send_bytes(obj)\n",
      "  File \"/usr/lib/python3.6/multiprocessing/connection.py\", line 200, in send_bytes\n",
      "    self._send_bytes(m[offset:offset + size])\n",
      "  File \"/usr/lib/python3.6/multiprocessing/connection.py\", line 397, in _send_bytes\n",
      "    self._send(header)\n",
      "  File \"/usr/lib/python3.6/multiprocessing/connection.py\", line 368, in _send\n",
      "    n = write(self._handle, buf)\n",
      "BrokenPipeError: [Errno 32] Broken pipe\n"
     ]
    },
    {
     "data": {
      "application/vnd.jupyter.widget-view+json": {
       "model_id": "5182324e08d24538aa63745e27c653f9",
       "version_major": 2,
       "version_minor": 0
      },
      "text/plain": [
       "HBox(children=(FloatProgress(value=0.0, max=15.0), HTML(value='')))"
      ]
     },
     "metadata": {},
     "output_type": "display_data"
    },
    {
     "name": "stdout",
     "output_type": "stream",
     "text": [
      "\n"
     ]
    },
    {
     "ename": "KeyboardInterrupt",
     "evalue": "",
     "output_type": "error",
     "traceback": [
      "\u001b[0;31m---------------------------------------------------------------------------\u001b[0m",
      "\u001b[0;31mKeyboardInterrupt\u001b[0m                         Traceback (most recent call last)",
      "\u001b[0;32m<ipython-input-108-149475ed6cc4>\u001b[0m in \u001b[0;36m<module>\u001b[0;34m\u001b[0m\n\u001b[1;32m     38\u001b[0m         \u001b[0meval_every\u001b[0m\u001b[0;34m=\u001b[0m\u001b[0;36m10\u001b[0m\u001b[0;34m,\u001b[0m\u001b[0;34m\u001b[0m\u001b[0;34m\u001b[0m\u001b[0m\n\u001b[1;32m     39\u001b[0m         \u001b[0mnormalize\u001b[0m\u001b[0;34m=\u001b[0m\u001b[0;32mTrue\u001b[0m\u001b[0;34m,\u001b[0m\u001b[0;34m\u001b[0m\u001b[0;34m\u001b[0m\u001b[0m\n\u001b[0;32m---> 40\u001b[0;31m         \u001b[0mrandom_state\u001b[0m\u001b[0;34m=\u001b[0m\u001b[0;36m42\u001b[0m\u001b[0;34m\u001b[0m\u001b[0;34m\u001b[0m\u001b[0m\n\u001b[0m\u001b[1;32m     41\u001b[0m     )\n\u001b[1;32m     42\u001b[0m     \u001b[0mtime\u001b[0m\u001b[0;34m.\u001b[0m\u001b[0msleep\u001b[0m\u001b[0;34m(\u001b[0m\u001b[0;36m0.5\u001b[0m\u001b[0;34m)\u001b[0m\u001b[0;34m\u001b[0m\u001b[0;34m\u001b[0m\u001b[0m\n",
      "\u001b[0;32m~/my_project_dir/my_project_env/lib/python3.6/site-packages/gensim/models/nmf.py\u001b[0m in \u001b[0;36m__init__\u001b[0;34m(self, corpus, num_topics, id2word, chunksize, passes, kappa, minimum_probability, w_max_iter, w_stop_condition, h_max_iter, h_stop_condition, eval_every, normalize, random_state)\u001b[0m\n\u001b[1;32m    209\u001b[0m \u001b[0;34m\u001b[0m\u001b[0m\n\u001b[1;32m    210\u001b[0m         \u001b[0;32mif\u001b[0m \u001b[0mcorpus\u001b[0m \u001b[0;32mis\u001b[0m \u001b[0;32mnot\u001b[0m \u001b[0;32mNone\u001b[0m\u001b[0;34m:\u001b[0m\u001b[0;34m\u001b[0m\u001b[0;34m\u001b[0m\u001b[0m\n\u001b[0;32m--> 211\u001b[0;31m             \u001b[0mself\u001b[0m\u001b[0;34m.\u001b[0m\u001b[0mupdate\u001b[0m\u001b[0;34m(\u001b[0m\u001b[0mcorpus\u001b[0m\u001b[0;34m)\u001b[0m\u001b[0;34m\u001b[0m\u001b[0;34m\u001b[0m\u001b[0m\n\u001b[0m\u001b[1;32m    212\u001b[0m \u001b[0;34m\u001b[0m\u001b[0m\n\u001b[1;32m    213\u001b[0m     \u001b[0;32mdef\u001b[0m \u001b[0mget_topics\u001b[0m\u001b[0;34m(\u001b[0m\u001b[0mself\u001b[0m\u001b[0;34m,\u001b[0m \u001b[0mnormalize\u001b[0m\u001b[0;34m=\u001b[0m\u001b[0;32mNone\u001b[0m\u001b[0;34m)\u001b[0m\u001b[0;34m:\u001b[0m\u001b[0;34m\u001b[0m\u001b[0;34m\u001b[0m\u001b[0m\n",
      "\u001b[0;32m~/my_project_dir/my_project_env/lib/python3.6/site-packages/gensim/models/nmf.py\u001b[0m in \u001b[0;36mupdate\u001b[0;34m(self, corpus, chunksize, passes, eval_every)\u001b[0m\n\u001b[1;32m    653\u001b[0m                 \u001b[0mprevious_w_error\u001b[0m \u001b[0;34m=\u001b[0m \u001b[0mself\u001b[0m\u001b[0;34m.\u001b[0m\u001b[0m_w_error\u001b[0m\u001b[0;34m\u001b[0m\u001b[0;34m\u001b[0m\u001b[0m\n\u001b[1;32m    654\u001b[0m \u001b[0;34m\u001b[0m\u001b[0m\n\u001b[0;32m--> 655\u001b[0;31m                 \u001b[0mself\u001b[0m\u001b[0;34m.\u001b[0m\u001b[0m_solve_w\u001b[0m\u001b[0;34m(\u001b[0m\u001b[0;34m)\u001b[0m\u001b[0;34m\u001b[0m\u001b[0;34m\u001b[0m\u001b[0m\n\u001b[0m\u001b[1;32m    656\u001b[0m \u001b[0;34m\u001b[0m\u001b[0m\n\u001b[1;32m    657\u001b[0m                 \u001b[0mchunk_overall_idx\u001b[0m \u001b[0;34m+=\u001b[0m \u001b[0;36m1\u001b[0m\u001b[0;34m\u001b[0m\u001b[0;34m\u001b[0m\u001b[0m\n",
      "\u001b[0;32m~/my_project_dir/my_project_env/lib/python3.6/site-packages/gensim/models/nmf.py\u001b[0m in \u001b[0;36m_solve_w\u001b[0;34m(self)\u001b[0m\n\u001b[1;32m    684\u001b[0m \u001b[0;34m\u001b[0m\u001b[0m\n\u001b[1;32m    685\u001b[0m             \u001b[0mself\u001b[0m\u001b[0;34m.\u001b[0m\u001b[0m_W\u001b[0m \u001b[0;34m-=\u001b[0m \u001b[0meta\u001b[0m \u001b[0;34m*\u001b[0m \u001b[0;34m(\u001b[0m\u001b[0mWA\u001b[0m \u001b[0;34m-\u001b[0m \u001b[0mself\u001b[0m\u001b[0;34m.\u001b[0m\u001b[0mB\u001b[0m\u001b[0;34m)\u001b[0m\u001b[0;34m\u001b[0m\u001b[0;34m\u001b[0m\u001b[0m\n\u001b[0;32m--> 686\u001b[0;31m             \u001b[0mself\u001b[0m\u001b[0;34m.\u001b[0m\u001b[0m_transform\u001b[0m\u001b[0;34m(\u001b[0m\u001b[0;34m)\u001b[0m\u001b[0;34m\u001b[0m\u001b[0;34m\u001b[0m\u001b[0m\n\u001b[0m\u001b[1;32m    687\u001b[0m \u001b[0;34m\u001b[0m\u001b[0m\n\u001b[1;32m    688\u001b[0m     \u001b[0;32mdef\u001b[0m \u001b[0m_apply\u001b[0m\u001b[0;34m(\u001b[0m\u001b[0mself\u001b[0m\u001b[0;34m,\u001b[0m \u001b[0mcorpus\u001b[0m\u001b[0;34m,\u001b[0m \u001b[0mchunksize\u001b[0m\u001b[0;34m=\u001b[0m\u001b[0;32mNone\u001b[0m\u001b[0;34m,\u001b[0m \u001b[0;34m**\u001b[0m\u001b[0mkwargs\u001b[0m\u001b[0;34m)\u001b[0m\u001b[0;34m:\u001b[0m\u001b[0;34m\u001b[0m\u001b[0;34m\u001b[0m\u001b[0m\n",
      "\u001b[0;32m~/my_project_dir/my_project_env/lib/python3.6/site-packages/gensim/models/nmf.py\u001b[0m in \u001b[0;36m_transform\u001b[0;34m(self)\u001b[0m\n\u001b[1;32m    709\u001b[0m     \u001b[0;32mdef\u001b[0m \u001b[0m_transform\u001b[0m\u001b[0;34m(\u001b[0m\u001b[0mself\u001b[0m\u001b[0;34m)\u001b[0m\u001b[0;34m:\u001b[0m\u001b[0;34m\u001b[0m\u001b[0;34m\u001b[0m\u001b[0m\n\u001b[1;32m    710\u001b[0m         \u001b[0;34m\"\"\"Apply boundaries on W.\"\"\"\u001b[0m\u001b[0;34m\u001b[0m\u001b[0;34m\u001b[0m\u001b[0m\n\u001b[0;32m--> 711\u001b[0;31m         \u001b[0mnp\u001b[0m\u001b[0;34m.\u001b[0m\u001b[0mclip\u001b[0m\u001b[0;34m(\u001b[0m\u001b[0mself\u001b[0m\u001b[0;34m.\u001b[0m\u001b[0m_W\u001b[0m\u001b[0;34m,\u001b[0m \u001b[0;36m0\u001b[0m\u001b[0;34m,\u001b[0m \u001b[0mself\u001b[0m\u001b[0;34m.\u001b[0m\u001b[0mv_max\u001b[0m\u001b[0;34m,\u001b[0m \u001b[0mout\u001b[0m\u001b[0;34m=\u001b[0m\u001b[0mself\u001b[0m\u001b[0;34m.\u001b[0m\u001b[0m_W\u001b[0m\u001b[0;34m)\u001b[0m\u001b[0;34m\u001b[0m\u001b[0;34m\u001b[0m\u001b[0m\n\u001b[0m\u001b[1;32m    712\u001b[0m         \u001b[0msumsq\u001b[0m \u001b[0;34m=\u001b[0m \u001b[0mnp\u001b[0m\u001b[0;34m.\u001b[0m\u001b[0msqrt\u001b[0m\u001b[0;34m(\u001b[0m\u001b[0mnp\u001b[0m\u001b[0;34m.\u001b[0m\u001b[0meinsum\u001b[0m\u001b[0;34m(\u001b[0m\u001b[0;34m'ij,ij->j'\u001b[0m\u001b[0;34m,\u001b[0m \u001b[0mself\u001b[0m\u001b[0;34m.\u001b[0m\u001b[0m_W\u001b[0m\u001b[0;34m,\u001b[0m \u001b[0mself\u001b[0m\u001b[0;34m.\u001b[0m\u001b[0m_W\u001b[0m\u001b[0;34m)\u001b[0m\u001b[0;34m)\u001b[0m\u001b[0;34m\u001b[0m\u001b[0;34m\u001b[0m\u001b[0m\n\u001b[1;32m    713\u001b[0m         \u001b[0mnp\u001b[0m\u001b[0;34m.\u001b[0m\u001b[0mmaximum\u001b[0m\u001b[0;34m(\u001b[0m\u001b[0msumsq\u001b[0m\u001b[0;34m,\u001b[0m \u001b[0;36m1\u001b[0m\u001b[0;34m,\u001b[0m \u001b[0mout\u001b[0m\u001b[0;34m=\u001b[0m\u001b[0msumsq\u001b[0m\u001b[0;34m)\u001b[0m\u001b[0;34m\u001b[0m\u001b[0;34m\u001b[0m\u001b[0m\n",
      "\u001b[0;32m<__array_function__ internals>\u001b[0m in \u001b[0;36mclip\u001b[0;34m(*args, **kwargs)\u001b[0m\n",
      "\u001b[0;32m~/my_project_dir/my_project_env/lib/python3.6/site-packages/numpy/core/fromnumeric.py\u001b[0m in \u001b[0;36mclip\u001b[0;34m(a, a_min, a_max, out, **kwargs)\u001b[0m\n\u001b[1;32m   2035\u001b[0m \u001b[0;34m\u001b[0m\u001b[0m\n\u001b[1;32m   2036\u001b[0m     \"\"\"\n\u001b[0;32m-> 2037\u001b[0;31m     \u001b[0;32mreturn\u001b[0m \u001b[0m_wrapfunc\u001b[0m\u001b[0;34m(\u001b[0m\u001b[0ma\u001b[0m\u001b[0;34m,\u001b[0m \u001b[0;34m'clip'\u001b[0m\u001b[0;34m,\u001b[0m \u001b[0ma_min\u001b[0m\u001b[0;34m,\u001b[0m \u001b[0ma_max\u001b[0m\u001b[0;34m,\u001b[0m \u001b[0mout\u001b[0m\u001b[0;34m=\u001b[0m\u001b[0mout\u001b[0m\u001b[0;34m,\u001b[0m \u001b[0;34m**\u001b[0m\u001b[0mkwargs\u001b[0m\u001b[0;34m)\u001b[0m\u001b[0;34m\u001b[0m\u001b[0;34m\u001b[0m\u001b[0m\n\u001b[0m\u001b[1;32m   2038\u001b[0m \u001b[0;34m\u001b[0m\u001b[0m\n\u001b[1;32m   2039\u001b[0m \u001b[0;34m\u001b[0m\u001b[0m\n",
      "\u001b[0;32m~/my_project_dir/my_project_env/lib/python3.6/site-packages/numpy/core/fromnumeric.py\u001b[0m in \u001b[0;36m_wrapfunc\u001b[0;34m(obj, method, *args, **kwds)\u001b[0m\n\u001b[1;32m     59\u001b[0m \u001b[0;34m\u001b[0m\u001b[0m\n\u001b[1;32m     60\u001b[0m     \u001b[0;32mtry\u001b[0m\u001b[0;34m:\u001b[0m\u001b[0;34m\u001b[0m\u001b[0;34m\u001b[0m\u001b[0m\n\u001b[0;32m---> 61\u001b[0;31m         \u001b[0;32mreturn\u001b[0m \u001b[0mbound\u001b[0m\u001b[0;34m(\u001b[0m\u001b[0;34m*\u001b[0m\u001b[0margs\u001b[0m\u001b[0;34m,\u001b[0m \u001b[0;34m**\u001b[0m\u001b[0mkwds\u001b[0m\u001b[0;34m)\u001b[0m\u001b[0;34m\u001b[0m\u001b[0;34m\u001b[0m\u001b[0m\n\u001b[0m\u001b[1;32m     62\u001b[0m     \u001b[0;32mexcept\u001b[0m \u001b[0mTypeError\u001b[0m\u001b[0;34m:\u001b[0m\u001b[0;34m\u001b[0m\u001b[0;34m\u001b[0m\u001b[0m\n\u001b[1;32m     63\u001b[0m         \u001b[0;31m# A TypeError occurs if the object does have such a method in its\u001b[0m\u001b[0;34m\u001b[0m\u001b[0;34m\u001b[0m\u001b[0;34m\u001b[0m\u001b[0m\n",
      "\u001b[0;32m~/my_project_dir/my_project_env/lib/python3.6/site-packages/numpy/core/_methods.py\u001b[0m in \u001b[0;36m_clip\u001b[0;34m(a, min, max, out, casting, **kwargs)\u001b[0m\n\u001b[1;32m    130\u001b[0m     \u001b[0;32melse\u001b[0m\u001b[0;34m:\u001b[0m\u001b[0;34m\u001b[0m\u001b[0;34m\u001b[0m\u001b[0m\n\u001b[1;32m    131\u001b[0m         return _clip_dep_invoke_with_casting(\n\u001b[0;32m--> 132\u001b[0;31m             um.clip, a, min, max, out=out, casting=casting, **kwargs)\n\u001b[0m\u001b[1;32m    133\u001b[0m \u001b[0;34m\u001b[0m\u001b[0m\n\u001b[1;32m    134\u001b[0m \u001b[0;32mdef\u001b[0m \u001b[0m_mean\u001b[0m\u001b[0;34m(\u001b[0m\u001b[0ma\u001b[0m\u001b[0;34m,\u001b[0m \u001b[0maxis\u001b[0m\u001b[0;34m=\u001b[0m\u001b[0;32mNone\u001b[0m\u001b[0;34m,\u001b[0m \u001b[0mdtype\u001b[0m\u001b[0;34m=\u001b[0m\u001b[0;32mNone\u001b[0m\u001b[0;34m,\u001b[0m \u001b[0mout\u001b[0m\u001b[0;34m=\u001b[0m\u001b[0;32mNone\u001b[0m\u001b[0;34m,\u001b[0m \u001b[0mkeepdims\u001b[0m\u001b[0;34m=\u001b[0m\u001b[0;32mFalse\u001b[0m\u001b[0;34m)\u001b[0m\u001b[0;34m:\u001b[0m\u001b[0;34m\u001b[0m\u001b[0;34m\u001b[0m\u001b[0m\n",
      "\u001b[0;32m~/my_project_dir/my_project_env/lib/python3.6/site-packages/numpy/core/_methods.py\u001b[0m in \u001b[0;36m_clip_dep_invoke_with_casting\u001b[0;34m(ufunc, out, casting, *args, **kwargs)\u001b[0m\n\u001b[1;32m     83\u001b[0m     \u001b[0;31m# try to deal with broken casting rules\u001b[0m\u001b[0;34m\u001b[0m\u001b[0;34m\u001b[0m\u001b[0;34m\u001b[0m\u001b[0m\n\u001b[1;32m     84\u001b[0m     \u001b[0;32mtry\u001b[0m\u001b[0;34m:\u001b[0m\u001b[0;34m\u001b[0m\u001b[0;34m\u001b[0m\u001b[0m\n\u001b[0;32m---> 85\u001b[0;31m         \u001b[0;32mreturn\u001b[0m \u001b[0mufunc\u001b[0m\u001b[0;34m(\u001b[0m\u001b[0;34m*\u001b[0m\u001b[0margs\u001b[0m\u001b[0;34m,\u001b[0m \u001b[0mout\u001b[0m\u001b[0;34m=\u001b[0m\u001b[0mout\u001b[0m\u001b[0;34m,\u001b[0m \u001b[0;34m**\u001b[0m\u001b[0mkwargs\u001b[0m\u001b[0;34m)\u001b[0m\u001b[0;34m\u001b[0m\u001b[0;34m\u001b[0m\u001b[0m\n\u001b[0m\u001b[1;32m     86\u001b[0m     \u001b[0;32mexcept\u001b[0m \u001b[0m_exceptions\u001b[0m\u001b[0;34m.\u001b[0m\u001b[0m_UFuncOutputCastingError\u001b[0m \u001b[0;32mas\u001b[0m \u001b[0me\u001b[0m\u001b[0;34m:\u001b[0m\u001b[0;34m\u001b[0m\u001b[0;34m\u001b[0m\u001b[0m\n\u001b[1;32m     87\u001b[0m         \u001b[0;31m# Numpy 1.17.0, 2019-02-24\u001b[0m\u001b[0;34m\u001b[0m\u001b[0;34m\u001b[0m\u001b[0;34m\u001b[0m\u001b[0m\n",
      "\u001b[0;31mKeyboardInterrupt\u001b[0m: "
     ]
    },
    {
     "name": "stdout",
     "output_type": "stream",
     "text": [
      "time: 5min 20s\n"
     ]
    }
   ],
   "source": [
    "#Use Gensim's NMF to get the best num of topics via coherence score\n",
    "texts = data['tokens']\n",
    "\n",
    "# Create a dictionary\n",
    "# In gensim a dictionary is a mapping between words and their integer id\n",
    "dictionary = Dictionary(texts)\n",
    "\n",
    "# Filter out extremes to limit the number of features\n",
    "dictionary.filter_extremes(\n",
    "    no_below=3,\n",
    "    no_above=0.85,\n",
    "    keep_n=5000\n",
    ")\n",
    "\n",
    "# Create the bag-of-words format (list of (token_id, token_count))\n",
    "corpus = [dictionary.doc2bow(text) for text in texts]\n",
    "\n",
    "# Create a list of the topic numbers we want to try\n",
    "topic_nums = list(np.arange(5, 75 + 1, 5))\n",
    "\n",
    "# Run the nmf model and calculate the coherence score\n",
    "# for each number of topics\n",
    "coherence_scores = []\n",
    "for i in tqdm(range(0, len(topic_nums))):\n",
    "    for num in topic_nums:\n",
    "        nmf = Nmf(\n",
    "        corpus=corpus,\n",
    "        num_topics=num,\n",
    "        id2word=dictionary,\n",
    "        chunksize=2000,\n",
    "        passes=5,\n",
    "        kappa=.1,\n",
    "        minimum_probability=0.01,\n",
    "        w_max_iter=300,\n",
    "        w_stop_condition=0.0001,\n",
    "        h_max_iter=100,\n",
    "        h_stop_condition=0.001,\n",
    "        eval_every=10,\n",
    "        normalize=True,\n",
    "        random_state=42\n",
    "    )\n",
    "    time.sleep(0.5)\n",
    "    \n",
    "    # Run the coherence model to get the score\n",
    "    cm = CoherenceModel(\n",
    "        model=nmf,\n",
    "        texts=texts,\n",
    "        dictionary=dictionary,\n",
    "        coherence='c_v'\n",
    "    )\n",
    "    \n",
    "    coherence_scores.append(round(cm.get_coherence(), 5))\n",
    "\n"
   ]
  },
  {
   "cell_type": "code",
   "execution_count": null,
   "metadata": {},
   "outputs": [],
   "source": [
    "# Get the number of topics with the highest coherence score\n",
    "scores = list(zip(topic_nums, coherence_scores))\n",
    "best_num_topics = sorted(scores, key=itemgetter(1), reverse=True)[0][0]\n",
    "\n",
    "# Plot the results\n",
    "fig = plt.figure(figsize=(15, 7))\n",
    "\n",
    "plt.plot(\n",
    "    topic_nums,\n",
    "    coherence_scores,\n",
    "    linewidth=3,\n",
    "    color='#4287f5'\n",
    ")\n",
    "\n",
    "plt.xlabel(\"Topic Num\", fontsize=14)\n",
    "plt.ylabel(\"Coherence Score\", fontsize=14)\n",
    "plt.title('Coherence Score by Topic Number - Best Number of Topics: {}'.format(best_num_topics), fontsize=18)\n",
    "plt.xticks(np.arange(5, max(topic_nums) + 1, 5), fontsize=12)\n",
    "plt.yticks(fontsize=12)\n",
    "\n",
    "plt.show()\n"
   ]
  },
  {
   "cell_type": "code",
   "execution_count": 111,
   "metadata": {},
   "outputs": [
    {
     "name": "stdout",
     "output_type": "stream",
     "text": [
      "time: 33.5 s\n"
     ]
    }
   ],
   "source": [
    "# Now use the number of topics with the \n",
    "# highest coherence score to run the \n",
    "# sklearn nmf model\n",
    "from sklearn.feature_extraction.text import TfidfVectorizer\n",
    "\n",
    "\n",
    "texts = data['tokens']\n",
    "\n",
    "# Create the tfidf weights\n",
    "tfidf_vectorizer = TfidfVectorizer(\n",
    "    min_df=3,\n",
    "    max_df=0.85,\n",
    "    max_features=5000,\n",
    "    ngram_range=(1, 2),\n",
    "    preprocessor=' '.join\n",
    ")\n",
    "\n",
    "tfidf = tfidf_vectorizer.fit_transform(texts)\n",
    "\n",
    "# Save the feature names for later to create topic summaries\n",
    "tfidf_fn = tfidf_vectorizer.get_feature_names()\n",
    "\n",
    "# Run the nmf model\n",
    "nmf = NMF(\n",
    "    n_components=8,\n",
    "    init='nndsvd',\n",
    "    max_iter=500,\n",
    "    l1_ratio=0.0,\n",
    "    solver='cd',\n",
    "    alpha=0.0,\n",
    "    tol=1e-4,\n",
    "    random_state=42\n",
    ").fit(tfidf)"
   ]
  },
  {
   "cell_type": "code",
   "execution_count": 112,
   "metadata": {},
   "outputs": [
    {
     "data": {
      "text/html": [
       "<div>\n",
       "<style scoped>\n",
       "    .dataframe tbody tr th:only-of-type {\n",
       "        vertical-align: middle;\n",
       "    }\n",
       "\n",
       "    .dataframe tbody tr th {\n",
       "        vertical-align: top;\n",
       "    }\n",
       "\n",
       "    .dataframe thead th {\n",
       "        text-align: right;\n",
       "    }\n",
       "</style>\n",
       "<table border=\"1\" class=\"dataframe\">\n",
       "  <thead>\n",
       "    <tr style=\"text-align: right;\">\n",
       "      <th></th>\n",
       "      <th>0</th>\n",
       "      <th>1</th>\n",
       "      <th>2</th>\n",
       "      <th>3</th>\n",
       "      <th>4</th>\n",
       "      <th>5</th>\n",
       "      <th>6</th>\n",
       "      <th>7</th>\n",
       "      <th>topics</th>\n",
       "    </tr>\n",
       "  </thead>\n",
       "  <tbody>\n",
       "    <tr>\n",
       "      <th>0</th>\n",
       "      <td>say</td>\n",
       "      <td>people</td>\n",
       "      <td>company</td>\n",
       "      <td>one</td>\n",
       "      <td>would</td>\n",
       "      <td>year</td>\n",
       "      <td>time</td>\n",
       "      <td>make</td>\n",
       "      <td>say people company one would year time make</td>\n",
       "    </tr>\n",
       "    <tr>\n",
       "      <th>1</th>\n",
       "      <td>network continue</td>\n",
       "      <td>please click</td>\n",
       "      <td>computer network</td>\n",
       "      <td>robot</td>\n",
       "      <td>let know</td>\n",
       "      <td>unusual</td>\n",
       "      <td>click</td>\n",
       "      <td>box</td>\n",
       "      <td>network continue please click computer robot let know unusual box</td>\n",
       "    </tr>\n",
       "    <tr>\n",
       "      <th>2</th>\n",
       "      <td>proceed</td>\n",
       "      <td>disabled</td>\n",
       "      <td>legacy</td>\n",
       "      <td>would like</td>\n",
       "      <td>javascript</td>\n",
       "      <td>browser</td>\n",
       "      <td>twitter</td>\n",
       "      <td>detect</td>\n",
       "      <td>proceed disabled legacy would like javascript browser twitter detect</td>\n",
       "    </tr>\n",
       "    <tr>\n",
       "      <th>3</th>\n",
       "      <td>use</td>\n",
       "      <td>code</td>\n",
       "      <td>file</td>\n",
       "      <td>data</td>\n",
       "      <td>user</td>\n",
       "      <td>system</td>\n",
       "      <td>using</td>\n",
       "      <td>nt</td>\n",
       "      <td>use code file data user system using nt</td>\n",
       "    </tr>\n",
       "    <tr>\n",
       "      <th>4</th>\n",
       "      <td>obj</td>\n",
       "      <td>endobj</td>\n",
       "      <td>endobj obj</td>\n",
       "      <td>stream</td>\n",
       "      <td>obj stream</td>\n",
       "      <td>endstream</td>\n",
       "      <td>endstream endobj</td>\n",
       "      <td>obj endobj</td>\n",
       "      <td>obj endobj stream endstream</td>\n",
       "    </tr>\n",
       "  </tbody>\n",
       "</table>\n",
       "</div>"
      ],
      "text/plain": [
       "                  0             1                 2           3           4  \\\n",
       "0  say               people        company           one         would        \n",
       "1  network continue  please click  computer network  robot       let know     \n",
       "2  proceed           disabled      legacy            would like  javascript   \n",
       "3  use               code          file              data        user         \n",
       "4  obj               endobj        endobj obj        stream      obj stream   \n",
       "\n",
       "           5                 6           7  \\\n",
       "0  year       time              make         \n",
       "1  unusual    click             box          \n",
       "2  browser    twitter           detect       \n",
       "3  system     using             nt           \n",
       "4  endstream  endstream endobj  obj endobj   \n",
       "\n",
       "                                                                 topics  \n",
       "0  say people company one would year time make                           \n",
       "1  network continue please click computer robot let know unusual box     \n",
       "2  proceed disabled legacy would like javascript browser twitter detect  \n",
       "3  use code file data user system using nt                               \n",
       "4  obj endobj stream endstream                                           "
      ]
     },
     "execution_count": 112,
     "metadata": {},
     "output_type": "execute_result"
    },
    {
     "name": "stdout",
     "output_type": "stream",
     "text": [
      "time: 12.6 s\n"
     ]
    }
   ],
   "source": [
    "from sklearn.feature_extraction.text import ENGLISH_STOP_WORDS\n",
    "import string\n",
    "import re\n",
    "from nltk.stem.snowball import SnowballStemmer\n",
    "from nltk.tokenize import TweetTokenizer, RegexpTokenizer\n",
    "import nltk\n",
    "def topic_table(model, feature_names, n_top_words):\n",
    "    topics = {}\n",
    "    for topic_idx, topic in enumerate(model.components_):\n",
    "        t = (topic_idx)\n",
    "        topics[t] = [feature_names[i] for i in top_words(topic, n_top_words)]\n",
    "    return pd.DataFrame(topics)\n",
    "\n",
    "def top_words(topic, n_top_words):\n",
    "    return topic.argsort()[:-n_top_words - 1:-1]  \n",
    "def whitespace_tokenizer(text): \n",
    "    pattern = r\"(?u)\\b\\w\\w+\\b\" \n",
    "    tokenizer_regex = RegexpTokenizer(pattern)\n",
    "    tokens = tokenizer_regex.tokenize(text)\n",
    "    return tokens\n",
    "# Funtion to remove duplicate words\n",
    "def unique_words(text): \n",
    "    ulist = []\n",
    "    [ulist.append(x) for x in text if x not in ulist]\n",
    "    return ulist\n",
    "# Use the top words for each cluster by tfidf weight\n",
    "# to create 'topics'\n",
    "\n",
    "# Getting a df with each topic by document\n",
    "docweights = nmf.transform(tfidf_vectorizer.transform(texts))\n",
    "\n",
    "n_top_words = 8\n",
    "\n",
    "topic_df = topic_table(\n",
    "    nmf,\n",
    "    tfidf_fn,\n",
    "    n_top_words\n",
    ").T\n",
    "\n",
    "# Cleaning up the top words to create topic summaries\n",
    "topic_df['topics'] = topic_df.apply(lambda x: [' '.join(x)], axis=1) # Joining each word into a list\n",
    "topic_df['topics'] = topic_df['topics'].str[0]  # Removing the list brackets\n",
    "topic_df['topics'] = topic_df['topics'].apply(lambda x: whitespace_tokenizer(x)) # tokenize\n",
    "topic_df['topics'] = topic_df['topics'].apply(lambda x: unique_words(x))  # Removing duplicate words\n",
    "topic_df['topics'] = topic_df['topics'].apply(lambda x: [' '.join(x)])  # Joining each word into a list\n",
    "topic_df['topics'] = topic_df['topics'].str[0]  # Removing the list brackets\n",
    "\n",
    "topic_df.head()"
   ]
  },
  {
   "cell_type": "code",
   "execution_count": null,
   "metadata": {},
   "outputs": [],
   "source": []
  }
 ],
 "metadata": {
  "kernelspec": {
   "display_name": "Python 3",
   "language": "python",
   "name": "python3"
  },
  "language_info": {
   "codemirror_mode": {
    "name": "ipython",
    "version": 3
   },
   "file_extension": ".py",
   "mimetype": "text/x-python",
   "name": "python",
   "nbconvert_exporter": "python",
   "pygments_lexer": "ipython3",
   "version": "3.6.9"
  }
 },
 "nbformat": 4,
 "nbformat_minor": 4
}
